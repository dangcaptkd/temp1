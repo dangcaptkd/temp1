{
  "nbformat": 4,
  "nbformat_minor": 0,
  "metadata": {
    "colab": {
      "name": "Fruit_recognition_using_color_extraction1.ipynb",
      "provenance": [],
      "collapsed_sections": [],
      "authorship_tag": "ABX9TyNjTdl8OItHMeTqZVv4rlyC",
      "include_colab_link": true
    },
    "kernelspec": {
      "name": "python3",
      "display_name": "Python 3"
    }
  },
  "cells": [
    {
      "cell_type": "markdown",
      "metadata": {
        "id": "view-in-github",
        "colab_type": "text"
      },
      "source": [
        "<a href=\"https://colab.research.google.com/github/dangcaptkd/temp1/blob/master/Fruit_recognition_using_color_extraction1.ipynb\" target=\"_parent\"><img src=\"https://colab.research.google.com/assets/colab-badge.svg\" alt=\"Open In Colab\"/></a>"
      ]
    },
    {
      "cell_type": "code",
      "metadata": {
        "id": "S-8KYkzT8rSK",
        "colab_type": "code",
        "colab": {
          "base_uri": "https://localhost:8080/",
          "height": 224
        },
        "outputId": "cdac456e-2c5b-4eb0-c18a-d78acde13e1a"
      },
      "source": [
        "!pip install opencv-python==3.1.0.4"
      ],
      "execution_count": null,
      "outputs": [
        {
          "output_type": "stream",
          "text": [
            "Collecting opencv-python==3.1.0.4\n",
            "\u001b[?25l  Downloading https://files.pythonhosted.org/packages/4a/48/79ec6689ecc6e2258f38899f092f856901f41a1423121a553e9820de81a1/opencv_python-3.1.0.4-cp36-cp36m-manylinux1_x86_64.whl (6.2MB)\n",
            "\u001b[K     |████████████████████████████████| 6.2MB 2.8MB/s \n",
            "\u001b[?25hRequirement already satisfied: numpy>=1.11.3 in /usr/local/lib/python3.6/dist-packages (from opencv-python==3.1.0.4) (1.18.5)\n",
            "\u001b[31mERROR: dopamine-rl 1.0.5 has requirement opencv-python>=3.4.1.15, but you'll have opencv-python 3.1.0.4 which is incompatible.\u001b[0m\n",
            "\u001b[31mERROR: albumentations 0.1.12 has requirement imgaug<0.2.7,>=0.2.5, but you'll have imgaug 0.2.9 which is incompatible.\u001b[0m\n",
            "Installing collected packages: opencv-python\n",
            "  Found existing installation: opencv-python 4.1.2.30\n",
            "    Uninstalling opencv-python-4.1.2.30:\n",
            "      Successfully uninstalled opencv-python-4.1.2.30\n",
            "Successfully installed opencv-python-3.1.0.4\n"
          ],
          "name": "stdout"
        }
      ]
    },
    {
      "cell_type": "code",
      "metadata": {
        "id": "RC8GgYqJ864l",
        "colab_type": "code",
        "colab": {
          "base_uri": "https://localhost:8080/",
          "height": 122
        },
        "outputId": "3a9f27f6-4cda-456b-e752-83d25460dfb6"
      },
      "source": [
        "from google.colab import drive\n",
        "drive.mount('/content/drive')"
      ],
      "execution_count": null,
      "outputs": [
        {
          "output_type": "stream",
          "text": [
            "Go to this URL in a browser: https://accounts.google.com/o/oauth2/auth?client_id=947318989803-6bn6qk8qdgf4n4g3pfee6491hc0brc4i.apps.googleusercontent.com&redirect_uri=urn%3aietf%3awg%3aoauth%3a2.0%3aoob&response_type=code&scope=email%20https%3a%2f%2fwww.googleapis.com%2fauth%2fdocs.test%20https%3a%2f%2fwww.googleapis.com%2fauth%2fdrive%20https%3a%2f%2fwww.googleapis.com%2fauth%2fdrive.photos.readonly%20https%3a%2f%2fwww.googleapis.com%2fauth%2fpeopleapi.readonly\n",
            "\n",
            "Enter your authorization code:\n",
            "··········\n",
            "Mounted at /content/drive\n"
          ],
          "name": "stdout"
        }
      ]
    },
    {
      "cell_type": "code",
      "metadata": {
        "id": "5DgOIyQTAcch",
        "colab_type": "code",
        "colab": {}
      },
      "source": [
        "from sklearn.cluster import KMeans\n",
        "import matplotlib.pyplot as plt\n",
        "import numpy as np\n",
        "import cv2\n",
        "from collections import Counter\n",
        "from skimage.color import rgb2lab, deltaE_cie76\n",
        "import os\n",
        "from google.colab.patches import cv2_imshow\n",
        "import pandas as pd"
      ],
      "execution_count": null,
      "outputs": []
    },
    {
      "cell_type": "code",
      "metadata": {
        "id": "ur9KYY5IAkKO",
        "colab_type": "code",
        "colab": {}
      },
      "source": [
        "def find_contour(cnts, resized_image):\n",
        "    contains = []\n",
        "    y_ri,x_ri, _ = resized_image.shape\n",
        "    for cc in cnts:\n",
        "        yn = cv2.pointPolygonTest(cc,(x_ri//2,y_ri//2),False)\n",
        "        contains.append(yn)\n",
        "\n",
        "    val = [contains.index(temp) for temp in contains if temp>0]\n",
        "    #print(contains)\n",
        "    #print(val)\n",
        "    if len(val)==0:\n",
        "      return 0\n",
        "    return val[0]"
      ],
      "execution_count": null,
      "outputs": []
    },
    {
      "cell_type": "code",
      "metadata": {
        "id": "gg7olBhdAkrx",
        "colab_type": "code",
        "colab": {}
      },
      "source": [
        "def remove_background(img):\n",
        "  gs = cv2.cvtColor(img,cv2.COLOR_RGB2GRAY)\n",
        "  blur = cv2.GaussianBlur(gs, (55,55),0)\n",
        "  ret_otsu,im_bw_otsu = cv2.threshold(blur,0,255,cv2.THRESH_BINARY_INV+cv2.THRESH_OTSU)\n",
        "  kernel = np.ones((50,50),np.uint8)\n",
        "  closing = cv2.morphologyEx(im_bw_otsu, cv2.MORPH_CLOSE, kernel)\n",
        "  image, contours, hierarchy = cv2.findContours(closing,cv2.RETR_TREE,cv2.CHAIN_APPROX_SIMPLE)\n",
        "\n",
        "  black_img = np.empty([200,200,3],dtype=np.uint8)\n",
        "  black_img.fill(0)\n",
        "\n",
        "  index = find_contour(contours, img)\n",
        "  cnt = contours[index]\n",
        "  mask = cv2.drawContours(black_img, [cnt] , 0, (255,255,255), -1)\n",
        "\n",
        "  maskedImg = cv2.bitwise_and(img, mask)\n",
        "\n",
        "  white_pix = [255,255,255]\n",
        "  black_pix = [0,0,0]\n",
        "\n",
        "  final_img = maskedImg\n",
        "  h,w,channels = final_img.shape\n",
        "  for x in range(0,w):\n",
        "      for y in range(0,h):\n",
        "          channels_xy = final_img[y,x]\n",
        "          if all(channels_xy == black_pix):    \n",
        "              final_img[y,x] = white_pix\n",
        "  \n",
        "  return final_img"
      ],
      "execution_count": null,
      "outputs": []
    },
    {
      "cell_type": "code",
      "metadata": {
        "id": "oE0LIhBDAmtP",
        "colab_type": "code",
        "collapsed": true,
        "colab": {
          "base_uri": "https://localhost:8080/",
          "height": 170
        },
        "outputId": "9af3b40d-a10e-4def-e7e1-711675da12fa"
      },
      "source": [
        "#@title Nhập URL_path\n",
        "\n",
        "\n",
        "path = '/content/drive/My Drive/học kì 4 uit/Fruit_60_imgs'#@param {type:\"string\"}\n",
        "folder_name = os.listdir(path)\n",
        "dataset_train = {}\n",
        "dataset_test = {}\n",
        "test_size = 0.25 #@param {type: \"number\"}\n",
        "number = 1\n",
        "for name in folder_name:\n",
        "  print(name)\n",
        "  images_train = []\n",
        "  images_test = []\n",
        "  for img in os.listdir(path+'/'+name):\n",
        "    fruit_img = cv2.imread(path+'/'+name+'/'+img)\n",
        "    resized_img = cv2.resize(fruit_img, (200, 200))\n",
        "    rb_img = remove_background(resized_img)\n",
        "\n",
        "    if len(images_test) < test_size*(len(os.listdir(path+'/'+name))):\n",
        "      images_test.append(rb_img)\n",
        "    else:\n",
        "      images_train.append(rb_img)\n",
        "    #cv2_imshow(rb_img)\n",
        "\n",
        "    if number%10==0:\n",
        "      print('done {} image'.format(number))\n",
        "    number+=1\n",
        "\n",
        "  dataset_train[name] = images_train\n",
        "  dataset_test[name] = images_test"
      ],
      "execution_count": null,
      "outputs": [
        {
          "output_type": "stream",
          "text": [
            "cam\n",
            "done 10 image\n",
            "done 20 image\n",
            "cachua\n",
            "done 30 image\n",
            "done 40 image\n",
            "chuoi\n",
            "done 50 image\n",
            "done 60 image\n"
          ],
          "name": "stdout"
        }
      ]
    },
    {
      "cell_type": "code",
      "metadata": {
        "id": "Y-OJ1fmqKDjX",
        "colab_type": "code",
        "colab": {}
      },
      "source": [
        "def create_df_with_many_images(dataset):\n",
        "  columns_name = ['name', 'red_mean', 'red_std', 'green_mean', 'green_std', 'blue_mean', 'blue_std']\n",
        "  red_means = []\n",
        "  red_stds = []\n",
        "  green_means = []\n",
        "  green_stds = []\n",
        "  blue_means = []\n",
        "  blue_stds = []\n",
        "  names = []\n",
        "  for fruit in dataset:\n",
        "    for img in dataset[fruit]:\n",
        "      red_channel = img[:,:,0]\n",
        "      green_channel = img[:,:,1]\n",
        "      blue_channel = img[:,:,2]\n",
        "      blue_channel[blue_channel == 255] = 0\n",
        "      green_channel[green_channel == 255] = 0\n",
        "      red_channel[red_channel == 255] = 0\n",
        "\n",
        "      red_mean = np.mean(red_channel)\n",
        "      green_mean = np.mean(green_channel)\n",
        "      blue_mean = np.mean(blue_channel)\n",
        "      \n",
        "      red_std = np.std(red_channel)\n",
        "      green_std = np.std(green_channel)\n",
        "      blue_std = np.std(blue_channel)\n",
        "\n",
        "      red_means.append(red_mean)\n",
        "      red_stds.append(red_std)\n",
        "      green_means.append(green_mean)\n",
        "      green_stds.append(green_std)\n",
        "      blue_means.append(blue_mean)\n",
        "      blue_stds.append(blue_std)\n",
        "      names.append(fruit)\n",
        "      \n",
        "  data = {'name': names, 'red_mean': red_means, 'red_std': red_stds, 'green_mean': green_means, \n",
        "          'green_std': green_stds, 'blue_mean': blue_means, 'blue_std': blue_stds}\n",
        "  df = pd.DataFrame(data)\n",
        "  return df"
      ],
      "execution_count": null,
      "outputs": []
    },
    {
      "cell_type": "code",
      "metadata": {
        "id": "dr2_tuhHQ2kc",
        "colab_type": "code",
        "colab": {}
      },
      "source": [
        "df_train = create_df_with_many_images(dataset_train)\n",
        "df_test = create_df_with_many_images(dataset_test)"
      ],
      "execution_count": null,
      "outputs": []
    },
    {
      "cell_type": "code",
      "metadata": {
        "id": "YmU3gQ14Q-SL",
        "colab_type": "code",
        "colab": {
          "base_uri": "https://localhost:8080/",
          "height": 204
        },
        "outputId": "d0da8fbc-c34d-4e4c-9e3f-bcab99c73a94"
      },
      "source": [
        "df_train.head()"
      ],
      "execution_count": null,
      "outputs": [
        {
          "output_type": "execute_result",
          "data": {
            "text/html": [
              "<div>\n",
              "<style scoped>\n",
              "    .dataframe tbody tr th:only-of-type {\n",
              "        vertical-align: middle;\n",
              "    }\n",
              "\n",
              "    .dataframe tbody tr th {\n",
              "        vertical-align: top;\n",
              "    }\n",
              "\n",
              "    .dataframe thead th {\n",
              "        text-align: right;\n",
              "    }\n",
              "</style>\n",
              "<table border=\"1\" class=\"dataframe\">\n",
              "  <thead>\n",
              "    <tr style=\"text-align: right;\">\n",
              "      <th></th>\n",
              "      <th>name</th>\n",
              "      <th>red_mean</th>\n",
              "      <th>red_std</th>\n",
              "      <th>green_mean</th>\n",
              "      <th>green_std</th>\n",
              "      <th>blue_mean</th>\n",
              "      <th>blue_std</th>\n",
              "    </tr>\n",
              "  </thead>\n",
              "  <tbody>\n",
              "    <tr>\n",
              "      <th>0</th>\n",
              "      <td>cam</td>\n",
              "      <td>40.031725</td>\n",
              "      <td>50.676539</td>\n",
              "      <td>86.514000</td>\n",
              "      <td>76.602169</td>\n",
              "      <td>109.216875</td>\n",
              "      <td>95.755464</td>\n",
              "    </tr>\n",
              "    <tr>\n",
              "      <th>1</th>\n",
              "      <td>cam</td>\n",
              "      <td>15.499425</td>\n",
              "      <td>38.286082</td>\n",
              "      <td>38.863300</td>\n",
              "      <td>66.041936</td>\n",
              "      <td>49.020150</td>\n",
              "      <td>82.782095</td>\n",
              "    </tr>\n",
              "    <tr>\n",
              "      <th>2</th>\n",
              "      <td>cam</td>\n",
              "      <td>19.140825</td>\n",
              "      <td>41.987322</td>\n",
              "      <td>44.140575</td>\n",
              "      <td>69.601869</td>\n",
              "      <td>53.836375</td>\n",
              "      <td>84.629120</td>\n",
              "    </tr>\n",
              "    <tr>\n",
              "      <th>3</th>\n",
              "      <td>cam</td>\n",
              "      <td>19.779125</td>\n",
              "      <td>40.612732</td>\n",
              "      <td>47.489875</td>\n",
              "      <td>69.355534</td>\n",
              "      <td>58.673200</td>\n",
              "      <td>84.952757</td>\n",
              "    </tr>\n",
              "    <tr>\n",
              "      <th>4</th>\n",
              "      <td>cam</td>\n",
              "      <td>19.832925</td>\n",
              "      <td>40.379143</td>\n",
              "      <td>46.742700</td>\n",
              "      <td>68.627011</td>\n",
              "      <td>58.565625</td>\n",
              "      <td>85.191895</td>\n",
              "    </tr>\n",
              "  </tbody>\n",
              "</table>\n",
              "</div>"
            ],
            "text/plain": [
              "  name   red_mean    red_std  green_mean  green_std   blue_mean   blue_std\n",
              "0  cam  40.031725  50.676539   86.514000  76.602169  109.216875  95.755464\n",
              "1  cam  15.499425  38.286082   38.863300  66.041936   49.020150  82.782095\n",
              "2  cam  19.140825  41.987322   44.140575  69.601869   53.836375  84.629120\n",
              "3  cam  19.779125  40.612732   47.489875  69.355534   58.673200  84.952757\n",
              "4  cam  19.832925  40.379143   46.742700  68.627011   58.565625  85.191895"
            ]
          },
          "metadata": {
            "tags": []
          },
          "execution_count": 55
        }
      ]
    },
    {
      "cell_type": "code",
      "metadata": {
        "id": "d7hB_mS3RBad",
        "colab_type": "code",
        "colab": {
          "base_uri": "https://localhost:8080/",
          "height": 204
        },
        "outputId": "06c5ac15-f639-4992-bd64-bfdcae2714b3"
      },
      "source": [
        "df_test.head()"
      ],
      "execution_count": null,
      "outputs": [
        {
          "output_type": "execute_result",
          "data": {
            "text/html": [
              "<div>\n",
              "<style scoped>\n",
              "    .dataframe tbody tr th:only-of-type {\n",
              "        vertical-align: middle;\n",
              "    }\n",
              "\n",
              "    .dataframe tbody tr th {\n",
              "        vertical-align: top;\n",
              "    }\n",
              "\n",
              "    .dataframe thead th {\n",
              "        text-align: right;\n",
              "    }\n",
              "</style>\n",
              "<table border=\"1\" class=\"dataframe\">\n",
              "  <thead>\n",
              "    <tr style=\"text-align: right;\">\n",
              "      <th></th>\n",
              "      <th>name</th>\n",
              "      <th>red_mean</th>\n",
              "      <th>red_std</th>\n",
              "      <th>green_mean</th>\n",
              "      <th>green_std</th>\n",
              "      <th>blue_mean</th>\n",
              "      <th>blue_std</th>\n",
              "    </tr>\n",
              "  </thead>\n",
              "  <tbody>\n",
              "    <tr>\n",
              "      <th>0</th>\n",
              "      <td>cam</td>\n",
              "      <td>21.147025</td>\n",
              "      <td>40.922773</td>\n",
              "      <td>48.791250</td>\n",
              "      <td>68.501048</td>\n",
              "      <td>63.540250</td>\n",
              "      <td>88.551137</td>\n",
              "    </tr>\n",
              "    <tr>\n",
              "      <th>1</th>\n",
              "      <td>cam</td>\n",
              "      <td>37.144025</td>\n",
              "      <td>54.023258</td>\n",
              "      <td>71.801650</td>\n",
              "      <td>77.016202</td>\n",
              "      <td>88.546525</td>\n",
              "      <td>94.434642</td>\n",
              "    </tr>\n",
              "    <tr>\n",
              "      <th>2</th>\n",
              "      <td>cam</td>\n",
              "      <td>25.183200</td>\n",
              "      <td>46.889103</td>\n",
              "      <td>61.886175</td>\n",
              "      <td>74.172450</td>\n",
              "      <td>80.664825</td>\n",
              "      <td>95.055150</td>\n",
              "    </tr>\n",
              "    <tr>\n",
              "      <th>3</th>\n",
              "      <td>cam</td>\n",
              "      <td>39.692550</td>\n",
              "      <td>51.343378</td>\n",
              "      <td>76.299300</td>\n",
              "      <td>75.712320</td>\n",
              "      <td>98.627475</td>\n",
              "      <td>97.260134</td>\n",
              "    </tr>\n",
              "    <tr>\n",
              "      <th>4</th>\n",
              "      <td>cam</td>\n",
              "      <td>44.313300</td>\n",
              "      <td>58.246593</td>\n",
              "      <td>80.317650</td>\n",
              "      <td>75.727018</td>\n",
              "      <td>100.344075</td>\n",
              "      <td>94.759164</td>\n",
              "    </tr>\n",
              "  </tbody>\n",
              "</table>\n",
              "</div>"
            ],
            "text/plain": [
              "  name   red_mean    red_std  green_mean  green_std   blue_mean   blue_std\n",
              "0  cam  21.147025  40.922773   48.791250  68.501048   63.540250  88.551137\n",
              "1  cam  37.144025  54.023258   71.801650  77.016202   88.546525  94.434642\n",
              "2  cam  25.183200  46.889103   61.886175  74.172450   80.664825  95.055150\n",
              "3  cam  39.692550  51.343378   76.299300  75.712320   98.627475  97.260134\n",
              "4  cam  44.313300  58.246593   80.317650  75.727018  100.344075  94.759164"
            ]
          },
          "metadata": {
            "tags": []
          },
          "execution_count": 57
        }
      ]
    },
    {
      "cell_type": "code",
      "metadata": {
        "id": "Fb8ls3OEoHXH",
        "colab_type": "code",
        "colab": {}
      },
      "source": [
        "df_train = df_train.sample(frac=1)\n",
        "df_test = df_test.sample(frac=1)"
      ],
      "execution_count": null,
      "outputs": []
    },
    {
      "cell_type": "code",
      "metadata": {
        "id": "76kFdBoiYtKF",
        "colab_type": "code",
        "colab": {}
      },
      "source": [
        "Y_train = df_train['name']\n",
        "X_train = df_train.drop(['name'], axis=1)\n",
        "Y_test = df_test['name']\n",
        "X_test = df_test.drop(['name'], axis=1)"
      ],
      "execution_count": null,
      "outputs": []
    },
    {
      "cell_type": "code",
      "metadata": {
        "id": "sz10Jep7bdwF",
        "colab_type": "code",
        "colab": {
          "base_uri": "https://localhost:8080/",
          "height": 34
        },
        "outputId": "6178966d-8e1d-4d5c-9ea0-616de1746bf6"
      },
      "source": [
        "from collections import Counter\n",
        "Counter(Y_train)"
      ],
      "execution_count": null,
      "outputs": [
        {
          "output_type": "execute_result",
          "data": {
            "text/plain": [
              "Counter({'cachua': 15, 'cam': 15, 'chuoi': 15})"
            ]
          },
          "metadata": {
            "tags": []
          },
          "execution_count": 62
        }
      ]
    },
    {
      "cell_type": "code",
      "metadata": {
        "id": "aVHKiB-Wbnyu",
        "colab_type": "code",
        "colab": {
          "base_uri": "https://localhost:8080/",
          "height": 85
        },
        "outputId": "09655ef6-f2fd-40b0-efa5-7eec272dd2c6"
      },
      "source": [
        "print(X_train.shape)\n",
        "print(X_test.shape)\n",
        "print(Y_train.shape)\n",
        "print(Y_test.shape)"
      ],
      "execution_count": null,
      "outputs": [
        {
          "output_type": "stream",
          "text": [
            "(45, 6)\n",
            "(15, 6)\n",
            "(45,)\n",
            "(15,)\n"
          ],
          "name": "stdout"
        }
      ]
    },
    {
      "cell_type": "code",
      "metadata": {
        "id": "oQnNuSk6gIQM",
        "colab_type": "code",
        "colab": {}
      },
      "source": [
        "from sklearn.ensemble import RandomForestClassifier\n",
        "from sklearn.svm import SVC\n",
        "from sklearn.neighbors import KNeighborsClassifier\n",
        "\n",
        "from sklearn.metrics import accuracy_score"
      ],
      "execution_count": null,
      "outputs": []
    },
    {
      "cell_type": "code",
      "metadata": {
        "id": "CxqWqOAqgt4w",
        "colab_type": "code",
        "colab": {
          "base_uri": "https://localhost:8080/",
          "height": 119
        },
        "outputId": "6c25466b-ecc4-40e6-a14c-a8fafe305b22"
      },
      "source": [
        "models = []\n",
        "models.append(('rfc', RandomForestClassifier()))\n",
        "models.append(('svc', SVC()))\n",
        "models.append(('knn', KNeighborsClassifier()))\n",
        "\n",
        "\n",
        "for name, model in models:\n",
        "  print(name)\n",
        "  model.fit(X_train, Y_train)\n",
        "  #print('\\ttrain', accuracy_score(Y_train, Y_test))\n",
        "  pred = model.predict(X_test)\n",
        "  print('\\ttest', accuracy_score(Y_test, pred))"
      ],
      "execution_count": null,
      "outputs": [
        {
          "output_type": "stream",
          "text": [
            "rfc\n",
            "\ttest 0.9333333333333333\n",
            "svc\n",
            "\ttest 0.9333333333333333\n",
            "knn\n",
            "\ttest 0.8666666666666667\n"
          ],
          "name": "stdout"
        }
      ]
    },
    {
      "cell_type": "code",
      "metadata": {
        "id": "tTkavWNwpAcX",
        "colab_type": "code",
        "colab": {}
      },
      "source": [
        "def create_df_with_one_img(img):\n",
        "  columns_name = ['red_mean', 'red_std', 'green_mean', 'green_std', 'blue_mean', 'blue_std']\n",
        "  red_means = []\n",
        "  red_stds = []\n",
        "  green_means = []\n",
        "  green_stds = []\n",
        "  blue_means = []\n",
        "  blue_stds = []\n",
        "\n",
        "  \n",
        "  red_channel = img[:,:,0]\n",
        "  green_channel = img[:,:,1]\n",
        "  blue_channel = img[:,:,2]\n",
        "  blue_channel[blue_channel == 255] = 0\n",
        "  green_channel[green_channel == 255] = 0\n",
        "  red_channel[red_channel == 255] = 0\n",
        "\n",
        "  red_mean = np.mean(red_channel)\n",
        "  green_mean = np.mean(green_channel)\n",
        "  blue_mean = np.mean(blue_channel)\n",
        "  \n",
        "  red_std = np.std(red_channel)\n",
        "  green_std = np.std(green_channel)\n",
        "  blue_std = np.std(blue_channel)\n",
        "\n",
        "  red_means.append(red_mean)\n",
        "  red_stds.append(red_std)\n",
        "  green_means.append(green_mean)\n",
        "  green_stds.append(green_std)\n",
        "  blue_means.append(blue_mean)\n",
        "  blue_stds.append(blue_std)\n",
        "\n",
        "  data = {'red_mean': red_means, 'red_std': red_stds, 'green_mean': green_means, \n",
        "          'green_std': green_stds, 'blue_mean': blue_means, 'blue_std': blue_stds}\n",
        "  df = pd.DataFrame(data)\n",
        "  df.head()\n",
        "  return df"
      ],
      "execution_count": null,
      "outputs": []
    },
    {
      "cell_type": "code",
      "metadata": {
        "id": "g5s3wCwJqIR6",
        "colab_type": "code",
        "colab": {
          "base_uri": "https://localhost:8080/",
          "height": 217
        },
        "outputId": "d1fb481b-d8c9-48a2-f637-10936bd423f1"
      },
      "source": [
        "img = cv2.imread('/content/chuoi.jpg')\n",
        "resized_img = cv2.resize(img, (200, 200))\n",
        "rb_img = remove_background(resized_img)\n",
        "images.append(rb_img)\n",
        "cv2_imshow(rb_img)"
      ],
      "execution_count": null,
      "outputs": [
        {
          "output_type": "display_data",
          "data": {
            "image/png": "[encoded data removed]",
            "text/plain": [
              "<PIL.Image.Image image mode=RGB size=200x200 at 0x7EFD73B46BA8>"
            ]
          },
          "metadata": {
            "tags": []
          }
        }
      ]
    },
    {
      "cell_type": "code",
      "metadata": {
        "id": "2gFJ1YG-qb0I",
        "colab_type": "code",
        "colab": {
          "base_uri": "https://localhost:8080/",
          "height": 80
        },
        "outputId": "b80c224a-2b67-4ddb-ff2e-d17031b22fe4"
      },
      "source": [
        "df = create_df_with_one_img(img)\n",
        "df"
      ],
      "execution_count": null,
      "outputs": [
        {
          "output_type": "execute_result",
          "data": {
            "text/html": [
              "<div>\n",
              "<style scoped>\n",
              "    .dataframe tbody tr th:only-of-type {\n",
              "        vertical-align: middle;\n",
              "    }\n",
              "\n",
              "    .dataframe tbody tr th {\n",
              "        vertical-align: top;\n",
              "    }\n",
              "\n",
              "    .dataframe thead th {\n",
              "        text-align: right;\n",
              "    }\n",
              "</style>\n",
              "<table border=\"1\" class=\"dataframe\">\n",
              "  <thead>\n",
              "    <tr style=\"text-align: right;\">\n",
              "      <th></th>\n",
              "      <th>red_mean</th>\n",
              "      <th>red_std</th>\n",
              "      <th>green_mean</th>\n",
              "      <th>green_std</th>\n",
              "      <th>blue_mean</th>\n",
              "      <th>blue_std</th>\n",
              "    </tr>\n",
              "  </thead>\n",
              "  <tbody>\n",
              "    <tr>\n",
              "      <th>0</th>\n",
              "      <td>55.089956</td>\n",
              "      <td>75.33673</td>\n",
              "      <td>120.265522</td>\n",
              "      <td>102.175172</td>\n",
              "      <td>126.375347</td>\n",
              "      <td>117.799491</td>\n",
              "    </tr>\n",
              "  </tbody>\n",
              "</table>\n",
              "</div>"
            ],
            "text/plain": [
              "    red_mean   red_std  green_mean   green_std   blue_mean    blue_std\n",
              "0  55.089956  75.33673  120.265522  102.175172  126.375347  117.799491"
            ]
          },
          "metadata": {
            "tags": []
          },
          "execution_count": 69
        }
      ]
    },
    {
      "cell_type": "code",
      "metadata": {
        "id": "ucCl3T_rq08K",
        "colab_type": "code",
        "colab": {
          "base_uri": "https://localhost:8080/",
          "height": 68
        },
        "outputId": "e3204c38-c349-4340-a7a1-2201eda02788"
      },
      "source": [
        "for name, model in models:\n",
        "  pred = model.predict(df)\n",
        "  print(name, pred)"
      ],
      "execution_count": null,
      "outputs": [
        {
          "output_type": "stream",
          "text": [
            "rfc ['cam']\n",
            "svc ['cam']\n",
            "knn ['cam']\n"
          ],
          "name": "stdout"
        }
      ]
    }
  ]
}