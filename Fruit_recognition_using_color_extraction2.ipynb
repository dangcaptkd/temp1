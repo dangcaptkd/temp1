{
  "nbformat": 4,
  "nbformat_minor": 0,
  "metadata": {
    "colab": {
      "name": "Fruit_recognition_using_color_extraction2.ipynb",
      "provenance": [],
      "authorship_tag": "ABX9TyMSkHAignh7p/Ja7PJtg2BX",
      "include_colab_link": true
    },
    "kernelspec": {
      "name": "python3",
      "display_name": "Python 3"
    }
  },
  "cells": [
    {
      "cell_type": "markdown",
      "metadata": {
        "id": "view-in-github",
        "colab_type": "text"
      },
      "source": [
        "<a href=\"https://colab.research.google.com/github/dangcaptkd/temp1/blob/master/Fruit_recognition_using_color_extraction2.ipynb\" target=\"_parent\"><img src=\"https://colab.research.google.com/assets/colab-badge.svg\" alt=\"Open In Colab\"/></a>"
      ]
    },
    {
      "cell_type": "code",
      "metadata": {
        "id": "f0d82hdlWfL0",
        "colab_type": "code",
        "colab": {
          "base_uri": "https://localhost:8080/",
          "height": 309
        },
        "outputId": "7b5bfc78-7b70-4028-9001-14989dd11e1c"
      },
      "source": [
        "!pip install opencv-python==3.1.0.4"
      ],
      "execution_count": null,
      "outputs": [
        {
          "output_type": "stream",
          "text": [
            "Collecting opencv-python==3.1.0.4\n",
            "\u001b[?25l  Downloading https://files.pythonhosted.org/packages/4a/48/79ec6689ecc6e2258f38899f092f856901f41a1423121a553e9820de81a1/opencv_python-3.1.0.4-cp36-cp36m-manylinux1_x86_64.whl (6.2MB)\n",
            "\u001b[K     |████████████████████████████████| 6.2MB 2.8MB/s \n",
            "\u001b[?25hRequirement already satisfied: numpy>=1.11.3 in /usr/local/lib/python3.6/dist-packages (from opencv-python==3.1.0.4) (1.18.5)\n",
            "\u001b[31mERROR: dopamine-rl 1.0.5 has requirement opencv-python>=3.4.1.15, but you'll have opencv-python 3.1.0.4 which is incompatible.\u001b[0m\n",
            "\u001b[31mERROR: albumentations 0.1.12 has requirement imgaug<0.2.7,>=0.2.5, but you'll have imgaug 0.2.9 which is incompatible.\u001b[0m\n",
            "Installing collected packages: opencv-python\n",
            "  Found existing installation: opencv-python 4.1.2.30\n",
            "    Uninstalling opencv-python-4.1.2.30:\n",
            "      Successfully uninstalled opencv-python-4.1.2.30\n",
            "Successfully installed opencv-python-3.1.0.4\n"
          ],
          "name": "stdout"
        },
        {
          "output_type": "display_data",
          "data": {
            "application/vnd.colab-display-data+json": {
              "pip_warning": {
                "packages": [
                  "cv2"
                ]
              }
            }
          },
          "metadata": {
            "tags": []
          }
        }
      ]
    },
    {
      "cell_type": "code",
      "metadata": {
        "id": "hPoi2VwksnJs",
        "colab_type": "code",
        "colab": {
          "base_uri": "https://localhost:8080/",
          "height": 35
        },
        "outputId": "d77a556c-b97a-40a2-feec-9d00b924250a"
      },
      "source": [
        "cv2.__version__"
      ],
      "execution_count": null,
      "outputs": [
        {
          "output_type": "execute_result",
          "data": {
            "application/vnd.google.colaboratory.intrinsic+json": {
              "type": "string"
            },
            "text/plain": [
              "'4.1.2'"
            ]
          },
          "metadata": {
            "tags": []
          },
          "execution_count": 7
        }
      ]
    },
    {
      "cell_type": "code",
      "metadata": {
        "id": "sq28p-56WYoP",
        "colab_type": "code",
        "colab": {
          "base_uri": "https://localhost:8080/",
          "height": 122
        },
        "outputId": "a7a7e6b8-b010-42d5-a84a-c2636f3cb7a8"
      },
      "source": [
        "from google.colab import drive\n",
        "drive.mount('/content/drive')"
      ],
      "execution_count": null,
      "outputs": [
        {
          "output_type": "stream",
          "text": [
            "Go to this URL in a browser: https://accounts.google.com/o/oauth2/auth?client_id=947318989803-6bn6qk8qdgf4n4g3pfee6491hc0brc4i.apps.googleusercontent.com&redirect_uri=urn%3aietf%3awg%3aoauth%3a2.0%3aoob&response_type=code&scope=email%20https%3a%2f%2fwww.googleapis.com%2fauth%2fdocs.test%20https%3a%2f%2fwww.googleapis.com%2fauth%2fdrive%20https%3a%2f%2fwww.googleapis.com%2fauth%2fdrive.photos.readonly%20https%3a%2f%2fwww.googleapis.com%2fauth%2fpeopleapi.readonly\n",
            "\n",
            "Enter your authorization code:\n",
            "··········\n",
            "Mounted at /content/drive\n"
          ],
          "name": "stdout"
        }
      ]
    },
    {
      "cell_type": "code",
      "metadata": {
        "id": "LjtIilVqWQRJ",
        "colab_type": "code",
        "colab": {}
      },
      "source": [
        "import matplotlib.pyplot as plt\n",
        "import numpy as np\n",
        "import cv2\n",
        "from collections import Counter\n",
        "import os\n",
        "from google.colab.patches import cv2_imshow\n",
        "import pandas as pd"
      ],
      "execution_count": null,
      "outputs": []
    },
    {
      "cell_type": "code",
      "metadata": {
        "id": "pbuFlXHfVUWm",
        "colab_type": "code",
        "colab": {}
      },
      "source": [
        "def find_contour(cnts, resized_image):\n",
        "    contains = []\n",
        "    y_ri,x_ri, _ = resized_image.shape\n",
        "    for cc in cnts:\n",
        "        yn = cv2.pointPolygonTest(cc,(x_ri//2,y_ri//2),False)\n",
        "        contains.append(yn)\n",
        "\n",
        "    val = [contains.index(temp) for temp in contains if temp>0]\n",
        "    #print(contains)\n",
        "    #print(val)\n",
        "    if len(val)==0:\n",
        "      return 0\n",
        "    return val[0]"
      ],
      "execution_count": null,
      "outputs": []
    },
    {
      "cell_type": "code",
      "metadata": {
        "id": "yUnaV99cVU5v",
        "colab_type": "code",
        "colab": {}
      },
      "source": [
        "def remove_background(img):\n",
        "  gs = cv2.cvtColor(img,cv2.COLOR_RGB2GRAY)\n",
        "  blur = cv2.GaussianBlur(gs, (55,55),0)\n",
        "  ret_otsu,im_bw_otsu = cv2.threshold(blur,0,255,cv2.THRESH_BINARY_INV+cv2.THRESH_OTSU)\n",
        "  kernel = np.ones((50,50),np.uint8)\n",
        "  closing = cv2.morphologyEx(im_bw_otsu, cv2.MORPH_CLOSE, kernel)\n",
        "  contours, hierarchy = cv2.findContours(closing,cv2.RETR_TREE,cv2.CHAIN_APPROX_SIMPLE)\n",
        "\n",
        "  black_img = np.empty([200,200,3],dtype=np.uint8)\n",
        "  black_img.fill(0)\n",
        "\n",
        "  index = find_contour(contours, img)\n",
        "  cnt = contours[index]\n",
        "  mask = cv2.drawContours(black_img, [cnt] , 0, (255,255,255), -1)\n",
        "\n",
        "  maskedImg = cv2.bitwise_and(img, mask)\n",
        "\n",
        "  white_pix = [255,255,255]\n",
        "  black_pix = [0,0,0]\n",
        "\n",
        "  final_img = maskedImg\n",
        "  h,w,channels = final_img.shape\n",
        "  for x in range(0,w):\n",
        "      for y in range(0,h):\n",
        "          channels_xy = final_img[y,x]\n",
        "          if all(channels_xy == black_pix):    \n",
        "              final_img[y,x] = white_pix\n",
        "  \n",
        "  return final_img"
      ],
      "execution_count": null,
      "outputs": []
    },
    {
      "cell_type": "code",
      "metadata": {
        "id": "UxhgzYq4Fpt3",
        "colab_type": "code",
        "colab": {}
      },
      "source": [
        "def features_grid(img):\n",
        "    features = np.array([], dtype='uint8')\n",
        "    section = 1\n",
        "    \n",
        "    for y in range(0, img.shape[0], 40):\n",
        "        for x in range(0, img.shape[1], 40):\n",
        "\n",
        "            # Cropping the image into a section.\n",
        "            section_img = img[y:y+40, x:x+40]\n",
        "            \n",
        "            # Claculating the mean and stdev of the sectioned image.\n",
        "            section_mean = np.mean(section_img)\n",
        "            section_std = np.std(section_img)\n",
        "            \n",
        "            # Appending the above calculated values into features array.\n",
        "            features = np.append(features, [section_mean, section_std])\n",
        "    \n",
        "    # Returning the features array.\n",
        "    return features"
      ],
      "execution_count": null,
      "outputs": []
    },
    {
      "cell_type": "code",
      "metadata": {
        "id": "yXjE0AkTFr9y",
        "colab_type": "code",
        "colab": {
          "base_uri": "https://localhost:8080/",
          "height": 1000
        },
        "outputId": "e9c2ba23-a67f-4e9c-ce8d-d7317b471129"
      },
      "source": [
        "path = '/content/drive/My Drive/học kì 4 uit/Fruit_60_imgs'\n",
        "folder_name = os.listdir(path)\n",
        "dataset = {}\n",
        "number = 1\n",
        "for name in folder_name:\n",
        "  images = []\n",
        "  for img in os.listdir(path+'/'+name):\n",
        "    fruit_img = cv2.imread(path+'/'+name+'/'+img)\n",
        "    resized_img = cv2.resize(fruit_img, (200, 200))\n",
        "    rb_img = remove_background(resized_img)\n",
        "    images.append(rb_img)\n",
        "    #cv2_imshow(rb_img)\n",
        "    if number%10==0:\n",
        "      print('done {} image'.format(number))\n",
        "      cv2_imshow(rb_img)\n",
        "    number+=1\n",
        "  dataset[name] = images"
      ],
      "execution_count": null,
      "outputs": [
        {
          "output_type": "stream",
          "text": [
            "done 10 image\n"
          ],
          "name": "stdout"
        },
        {
          "output_type": "display_data",
          "data": {
            "image/png": "[encoded data removed]",
            "text/plain": [
              "<PIL.Image.Image image mode=RGB size=200x200 at 0x7F85540FE978>"
            ]
          },
          "metadata": {
            "tags": []
          }
        },
        {
          "output_type": "stream",
          "text": [
            "done 20 image\n"
          ],
          "name": "stdout"
        },
        {
          "output_type": "display_data",
          "data": {
            "image/png": "[encoded data removed]",
            "text/plain": [
              "<PIL.Image.Image image mode=RGB size=200x200 at 0x7F85540FE898>"
            ]
          },
          "metadata": {
            "tags": []
          }
        },
        {
          "output_type": "stream",
          "text": [
            "done 30 image\n"
          ],
          "name": "stdout"
        },
        {
          "output_type": "display_data",
          "data": {
            "image/png": "[encoded data removed]",
            "text/plain": [
              "<PIL.Image.Image image mode=RGB size=200x200 at 0x7F85540FE9B0>"
            ]
          },
          "metadata": {
            "tags": []
          }
        },
        {
          "output_type": "stream",
          "text": [
            "done 40 image\n"
          ],
          "name": "stdout"
        },
        {
          "output_type": "display_data",
          "data": {
            "image/png": "[encoded data removed]",
            "text/plain": [
              "<PIL.Image.Image image mode=RGB size=200x200 at 0x7F85540FE908>"
            ]
          },
          "metadata": {
            "tags": []
          }
        },
        {
          "output_type": "stream",
          "text": [
            "done 50 image\n"
          ],
          "name": "stdout"
        },
        {
          "output_type": "display_data",
          "data": {
            "image/png": "[encoded data removed]",
            "text/plain": [
              "<PIL.Image.Image image mode=RGB size=200x200 at 0x7F85540FE9B0>"
            ]
          },
          "metadata": {
            "tags": []
          }
        },
        {
          "output_type": "stream",
          "text": [
            "done 60 image\n"
          ],
          "name": "stdout"
        },
        {
          "output_type": "display_data",
          "data": {
            "image/png": "[encoded data removed]",
            "text/plain": [
              "<PIL.Image.Image image mode=RGB size=200x200 at 0x7F85540FE908>"
            ]
          },
          "metadata": {
            "tags": []
          }
        }
      ]
    },
    {
      "cell_type": "code",
      "metadata": {
        "id": "rqB5Q4G1cQNC",
        "colab_type": "code",
        "colab": {
          "base_uri": "https://localhost:8080/",
          "height": 34
        },
        "outputId": "8695a680-f036-490c-a84c-7334c8b396d5"
      },
      "source": [
        "dataset['cachua'][0].shape"
      ],
      "execution_count": null,
      "outputs": [
        {
          "output_type": "execute_result",
          "data": {
            "text/plain": [
              "(200, 200, 3)"
            ]
          },
          "metadata": {
            "tags": []
          },
          "execution_count": 37
        }
      ]
    },
    {
      "cell_type": "code",
      "metadata": {
        "id": "A3ByaYanYy-n",
        "colab_type": "code",
        "colab": {}
      },
      "source": [
        "all_imgs = np.zeros((1, 50), dtype='uint8')\n",
        "name_fruits = []"
      ],
      "execution_count": null,
      "outputs": []
    },
    {
      "cell_type": "code",
      "metadata": {
        "id": "Q3-X7XULFt_i",
        "colab_type": "code",
        "colab": {}
      },
      "source": [
        "#all_imgs = np.append(all_imgs, img_features, axis=0)\n",
        "for name in dataset:\n",
        "  for img in dataset[name]:\n",
        "    name_fruits.append(name)\n",
        "    img_features = features_grid(img)\n",
        "    #img_features = np.append(img_features, name)\n",
        "    img_features = img_features.reshape(1, img_features.shape[0])\n",
        "\n",
        "    all_imgs = np.append(all_imgs, img_features, axis=0)\n",
        "\n",
        "all_imgs = all_imgs[1:]"
      ],
      "execution_count": null,
      "outputs": []
    },
    {
      "cell_type": "code",
      "metadata": {
        "id": "MAUdqqXZF4F7",
        "colab_type": "code",
        "colab": {
          "base_uri": "https://localhost:8080/",
          "height": 34
        },
        "outputId": "4b04120d-8ec3-4bd0-9a8c-e76330f836f9"
      },
      "source": [
        "all_imgs.shape"
      ],
      "execution_count": null,
      "outputs": [
        {
          "output_type": "execute_result",
          "data": {
            "text/plain": [
              "(60, 50)"
            ]
          },
          "metadata": {
            "tags": []
          },
          "execution_count": 24
        }
      ]
    },
    {
      "cell_type": "code",
      "metadata": {
        "id": "m307p5DRF6Q8",
        "colab_type": "code",
        "colab": {}
      },
      "source": [
        "feature_names = []\n",
        "section = 1\n",
        "    \n",
        "for y in range(0, 200, 40):\n",
        "    for x in range(0, 200, 40):\n",
        "        feature_names.append(f\"sec{section}_mean\")\n",
        "        feature_names.append(f\"sec{section}_std\")\n",
        "        section += 1"
      ],
      "execution_count": null,
      "outputs": []
    },
    {
      "cell_type": "code",
      "metadata": {
        "id": "nny1csRhZQPM",
        "colab_type": "code",
        "colab": {
          "base_uri": "https://localhost:8080/",
          "height": 224
        },
        "outputId": "ad5127ac-1e7e-4430-82a9-e22c2caa4c4b"
      },
      "source": [
        "df = pd.DataFrame(all_imgs, columns=feature_names)\n",
        "df.head()"
      ],
      "execution_count": null,
      "outputs": [
        {
          "output_type": "execute_result",
          "data": {
            "text/html": [
              "<div>\n",
              "<style scoped>\n",
              "    .dataframe tbody tr th:only-of-type {\n",
              "        vertical-align: middle;\n",
              "    }\n",
              "\n",
              "    .dataframe tbody tr th {\n",
              "        vertical-align: top;\n",
              "    }\n",
              "\n",
              "    .dataframe thead th {\n",
              "        text-align: right;\n",
              "    }\n",
              "</style>\n",
              "<table border=\"1\" class=\"dataframe\">\n",
              "  <thead>\n",
              "    <tr style=\"text-align: right;\">\n",
              "      <th></th>\n",
              "      <th>sec1_mean</th>\n",
              "      <th>sec1_std</th>\n",
              "      <th>sec2_mean</th>\n",
              "      <th>sec2_std</th>\n",
              "      <th>sec3_mean</th>\n",
              "      <th>sec3_std</th>\n",
              "      <th>sec4_mean</th>\n",
              "      <th>sec4_std</th>\n",
              "      <th>sec5_mean</th>\n",
              "      <th>sec5_std</th>\n",
              "      <th>sec6_mean</th>\n",
              "      <th>sec6_std</th>\n",
              "      <th>sec7_mean</th>\n",
              "      <th>sec7_std</th>\n",
              "      <th>sec8_mean</th>\n",
              "      <th>sec8_std</th>\n",
              "      <th>sec9_mean</th>\n",
              "      <th>sec9_std</th>\n",
              "      <th>sec10_mean</th>\n",
              "      <th>sec10_std</th>\n",
              "      <th>sec11_mean</th>\n",
              "      <th>sec11_std</th>\n",
              "      <th>sec12_mean</th>\n",
              "      <th>sec12_std</th>\n",
              "      <th>sec13_mean</th>\n",
              "      <th>sec13_std</th>\n",
              "      <th>sec14_mean</th>\n",
              "      <th>sec14_std</th>\n",
              "      <th>sec15_mean</th>\n",
              "      <th>sec15_std</th>\n",
              "      <th>sec16_mean</th>\n",
              "      <th>sec16_std</th>\n",
              "      <th>sec17_mean</th>\n",
              "      <th>sec17_std</th>\n",
              "      <th>sec18_mean</th>\n",
              "      <th>sec18_std</th>\n",
              "      <th>sec19_mean</th>\n",
              "      <th>sec19_std</th>\n",
              "      <th>sec20_mean</th>\n",
              "      <th>sec20_std</th>\n",
              "      <th>sec21_mean</th>\n",
              "      <th>sec21_std</th>\n",
              "      <th>sec22_mean</th>\n",
              "      <th>sec22_std</th>\n",
              "      <th>sec23_mean</th>\n",
              "      <th>sec23_std</th>\n",
              "      <th>sec24_mean</th>\n",
              "      <th>sec24_std</th>\n",
              "      <th>sec25_mean</th>\n",
              "      <th>sec25_std</th>\n",
              "    </tr>\n",
              "  </thead>\n",
              "  <tbody>\n",
              "    <tr>\n",
              "      <th>0</th>\n",
              "      <td>255.0</td>\n",
              "      <td>0.0</td>\n",
              "      <td>255.0</td>\n",
              "      <td>0.0</td>\n",
              "      <td>240.997917</td>\n",
              "      <td>42.784387</td>\n",
              "      <td>244.629583</td>\n",
              "      <td>38.809802</td>\n",
              "      <td>255.0</td>\n",
              "      <td>0.0</td>\n",
              "      <td>255.0</td>\n",
              "      <td>0.0</td>\n",
              "      <td>210.904583</td>\n",
              "      <td>68.538685</td>\n",
              "      <td>157.355625</td>\n",
              "      <td>68.617308</td>\n",
              "      <td>167.122083</td>\n",
              "      <td>73.385972</td>\n",
              "      <td>254.633125</td>\n",
              "      <td>5.954776</td>\n",
              "      <td>255.0</td>\n",
              "      <td>0.0</td>\n",
              "      <td>147.504583</td>\n",
              "      <td>81.203561</td>\n",
              "      <td>118.632292</td>\n",
              "      <td>71.443527</td>\n",
              "      <td>114.863958</td>\n",
              "      <td>65.631951</td>\n",
              "      <td>249.362708</td>\n",
              "      <td>25.579278</td>\n",
              "      <td>255.000000</td>\n",
              "      <td>0.000000</td>\n",
              "      <td>171.457708</td>\n",
              "      <td>83.039929</td>\n",
              "      <td>97.896458</td>\n",
              "      <td>59.766587</td>\n",
              "      <td>143.090208</td>\n",
              "      <td>74.592127</td>\n",
              "      <td>255.000000</td>\n",
              "      <td>0.000000</td>\n",
              "      <td>255.000000</td>\n",
              "      <td>0.000000</td>\n",
              "      <td>249.137708</td>\n",
              "      <td>25.490374</td>\n",
              "      <td>145.451458</td>\n",
              "      <td>38.057513</td>\n",
              "      <td>235.281042</td>\n",
              "      <td>40.747863</td>\n",
              "      <td>255.000000</td>\n",
              "      <td>0.000000</td>\n",
              "    </tr>\n",
              "    <tr>\n",
              "      <th>1</th>\n",
              "      <td>255.0</td>\n",
              "      <td>0.0</td>\n",
              "      <td>255.0</td>\n",
              "      <td>0.0</td>\n",
              "      <td>215.432083</td>\n",
              "      <td>61.066555</td>\n",
              "      <td>218.676875</td>\n",
              "      <td>59.705684</td>\n",
              "      <td>255.0</td>\n",
              "      <td>0.0</td>\n",
              "      <td>255.0</td>\n",
              "      <td>0.0</td>\n",
              "      <td>234.460625</td>\n",
              "      <td>50.553236</td>\n",
              "      <td>148.225833</td>\n",
              "      <td>68.439008</td>\n",
              "      <td>138.117083</td>\n",
              "      <td>66.298360</td>\n",
              "      <td>237.984167</td>\n",
              "      <td>46.479235</td>\n",
              "      <td>255.0</td>\n",
              "      <td>0.0</td>\n",
              "      <td>206.276458</td>\n",
              "      <td>71.538897</td>\n",
              "      <td>126.882083</td>\n",
              "      <td>61.449348</td>\n",
              "      <td>113.075625</td>\n",
              "      <td>64.503749</td>\n",
              "      <td>195.871458</td>\n",
              "      <td>63.604729</td>\n",
              "      <td>255.000000</td>\n",
              "      <td>0.000000</td>\n",
              "      <td>223.457708</td>\n",
              "      <td>58.786151</td>\n",
              "      <td>119.735625</td>\n",
              "      <td>68.434612</td>\n",
              "      <td>106.986875</td>\n",
              "      <td>56.843679</td>\n",
              "      <td>167.947708</td>\n",
              "      <td>25.292991</td>\n",
              "      <td>255.000000</td>\n",
              "      <td>0.000000</td>\n",
              "      <td>255.000000</td>\n",
              "      <td>0.000000</td>\n",
              "      <td>196.491458</td>\n",
              "      <td>58.809175</td>\n",
              "      <td>144.461042</td>\n",
              "      <td>33.787537</td>\n",
              "      <td>164.457500</td>\n",
              "      <td>26.205150</td>\n",
              "    </tr>\n",
              "    <tr>\n",
              "      <th>2</th>\n",
              "      <td>255.0</td>\n",
              "      <td>0.0</td>\n",
              "      <td>255.0</td>\n",
              "      <td>0.0</td>\n",
              "      <td>244.740625</td>\n",
              "      <td>38.830921</td>\n",
              "      <td>225.715417</td>\n",
              "      <td>60.299425</td>\n",
              "      <td>255.0</td>\n",
              "      <td>0.0</td>\n",
              "      <td>255.0</td>\n",
              "      <td>0.0</td>\n",
              "      <td>253.215417</td>\n",
              "      <td>17.264567</td>\n",
              "      <td>175.295833</td>\n",
              "      <td>74.812357</td>\n",
              "      <td>140.352500</td>\n",
              "      <td>65.215399</td>\n",
              "      <td>186.575833</td>\n",
              "      <td>68.053463</td>\n",
              "      <td>255.0</td>\n",
              "      <td>0.0</td>\n",
              "      <td>222.249792</td>\n",
              "      <td>66.675479</td>\n",
              "      <td>126.546875</td>\n",
              "      <td>74.312650</td>\n",
              "      <td>110.025625</td>\n",
              "      <td>73.885934</td>\n",
              "      <td>150.506042</td>\n",
              "      <td>59.436931</td>\n",
              "      <td>255.000000</td>\n",
              "      <td>0.000000</td>\n",
              "      <td>222.599375</td>\n",
              "      <td>61.768301</td>\n",
              "      <td>110.061875</td>\n",
              "      <td>71.501647</td>\n",
              "      <td>101.471875</td>\n",
              "      <td>65.217278</td>\n",
              "      <td>194.707917</td>\n",
              "      <td>59.531197</td>\n",
              "      <td>255.000000</td>\n",
              "      <td>0.000000</td>\n",
              "      <td>253.499583</td>\n",
              "      <td>12.345309</td>\n",
              "      <td>145.988542</td>\n",
              "      <td>55.955068</td>\n",
              "      <td>173.085000</td>\n",
              "      <td>64.270181</td>\n",
              "      <td>255.000000</td>\n",
              "      <td>0.000000</td>\n",
              "    </tr>\n",
              "    <tr>\n",
              "      <th>3</th>\n",
              "      <td>255.0</td>\n",
              "      <td>0.0</td>\n",
              "      <td>255.0</td>\n",
              "      <td>0.0</td>\n",
              "      <td>254.470625</td>\n",
              "      <td>9.078361</td>\n",
              "      <td>255.000000</td>\n",
              "      <td>0.000000</td>\n",
              "      <td>255.0</td>\n",
              "      <td>0.0</td>\n",
              "      <td>255.0</td>\n",
              "      <td>0.0</td>\n",
              "      <td>244.151250</td>\n",
              "      <td>40.371721</td>\n",
              "      <td>164.369167</td>\n",
              "      <td>77.095679</td>\n",
              "      <td>201.943750</td>\n",
              "      <td>69.575952</td>\n",
              "      <td>255.000000</td>\n",
              "      <td>0.000000</td>\n",
              "      <td>255.0</td>\n",
              "      <td>0.0</td>\n",
              "      <td>190.076458</td>\n",
              "      <td>78.091470</td>\n",
              "      <td>140.571042</td>\n",
              "      <td>69.412436</td>\n",
              "      <td>140.358542</td>\n",
              "      <td>69.184789</td>\n",
              "      <td>247.091875</td>\n",
              "      <td>28.445242</td>\n",
              "      <td>227.753333</td>\n",
              "      <td>42.868996</td>\n",
              "      <td>144.961458</td>\n",
              "      <td>61.480423</td>\n",
              "      <td>110.751667</td>\n",
              "      <td>69.199503</td>\n",
              "      <td>114.276042</td>\n",
              "      <td>66.087047</td>\n",
              "      <td>200.908958</td>\n",
              "      <td>50.379219</td>\n",
              "      <td>167.841875</td>\n",
              "      <td>29.689957</td>\n",
              "      <td>144.565208</td>\n",
              "      <td>34.806877</td>\n",
              "      <td>127.418750</td>\n",
              "      <td>51.781742</td>\n",
              "      <td>131.373333</td>\n",
              "      <td>41.699228</td>\n",
              "      <td>151.464167</td>\n",
              "      <td>33.031115</td>\n",
              "    </tr>\n",
              "    <tr>\n",
              "      <th>4</th>\n",
              "      <td>255.0</td>\n",
              "      <td>0.0</td>\n",
              "      <td>255.0</td>\n",
              "      <td>0.0</td>\n",
              "      <td>250.029167</td>\n",
              "      <td>26.273275</td>\n",
              "      <td>248.145417</td>\n",
              "      <td>32.535694</td>\n",
              "      <td>255.0</td>\n",
              "      <td>0.0</td>\n",
              "      <td>255.0</td>\n",
              "      <td>0.0</td>\n",
              "      <td>244.839167</td>\n",
              "      <td>37.625717</td>\n",
              "      <td>163.560417</td>\n",
              "      <td>71.434779</td>\n",
              "      <td>159.697917</td>\n",
              "      <td>74.110809</td>\n",
              "      <td>248.203750</td>\n",
              "      <td>29.552308</td>\n",
              "      <td>255.0</td>\n",
              "      <td>0.0</td>\n",
              "      <td>192.776875</td>\n",
              "      <td>76.245751</td>\n",
              "      <td>118.653958</td>\n",
              "      <td>67.093567</td>\n",
              "      <td>132.781875</td>\n",
              "      <td>67.735415</td>\n",
              "      <td>181.968750</td>\n",
              "      <td>61.272981</td>\n",
              "      <td>229.462917</td>\n",
              "      <td>42.210685</td>\n",
              "      <td>141.808333</td>\n",
              "      <td>55.815450</td>\n",
              "      <td>108.662500</td>\n",
              "      <td>66.973240</td>\n",
              "      <td>116.958125</td>\n",
              "      <td>63.289722</td>\n",
              "      <td>153.314792</td>\n",
              "      <td>55.220885</td>\n",
              "      <td>235.480208</td>\n",
              "      <td>38.116046</td>\n",
              "      <td>157.176042</td>\n",
              "      <td>33.810767</td>\n",
              "      <td>125.377500</td>\n",
              "      <td>58.168555</td>\n",
              "      <td>125.131250</td>\n",
              "      <td>52.583951</td>\n",
              "      <td>150.344167</td>\n",
              "      <td>33.375900</td>\n",
              "    </tr>\n",
              "  </tbody>\n",
              "</table>\n",
              "</div>"
            ],
            "text/plain": [
              "   sec1_mean  sec1_std  sec2_mean  ...  sec24_std  sec25_mean  sec25_std\n",
              "0      255.0       0.0      255.0  ...  40.747863  255.000000   0.000000\n",
              "1      255.0       0.0      255.0  ...  33.787537  164.457500  26.205150\n",
              "2      255.0       0.0      255.0  ...  64.270181  255.000000   0.000000\n",
              "3      255.0       0.0      255.0  ...  41.699228  151.464167  33.031115\n",
              "4      255.0       0.0      255.0  ...  52.583951  150.344167  33.375900\n",
              "\n",
              "[5 rows x 50 columns]"
            ]
          },
          "metadata": {
            "tags": []
          },
          "execution_count": 26
        }
      ]
    },
    {
      "cell_type": "code",
      "metadata": {
        "id": "3birx9tXZ-nY",
        "colab_type": "code",
        "colab": {
          "base_uri": "https://localhost:8080/",
          "height": 224
        },
        "outputId": "54ea7843-55d4-4084-87a8-8e6bcf159328"
      },
      "source": [
        "df.insert(loc=0, column=\"name\", value=name_fruits)\n",
        "df.head()"
      ],
      "execution_count": null,
      "outputs": [
        {
          "output_type": "execute_result",
          "data": {
            "text/html": [
              "<div>\n",
              "<style scoped>\n",
              "    .dataframe tbody tr th:only-of-type {\n",
              "        vertical-align: middle;\n",
              "    }\n",
              "\n",
              "    .dataframe tbody tr th {\n",
              "        vertical-align: top;\n",
              "    }\n",
              "\n",
              "    .dataframe thead th {\n",
              "        text-align: right;\n",
              "    }\n",
              "</style>\n",
              "<table border=\"1\" class=\"dataframe\">\n",
              "  <thead>\n",
              "    <tr style=\"text-align: right;\">\n",
              "      <th></th>\n",
              "      <th>name</th>\n",
              "      <th>sec1_mean</th>\n",
              "      <th>sec1_std</th>\n",
              "      <th>sec2_mean</th>\n",
              "      <th>sec2_std</th>\n",
              "      <th>sec3_mean</th>\n",
              "      <th>sec3_std</th>\n",
              "      <th>sec4_mean</th>\n",
              "      <th>sec4_std</th>\n",
              "      <th>sec5_mean</th>\n",
              "      <th>sec5_std</th>\n",
              "      <th>sec6_mean</th>\n",
              "      <th>sec6_std</th>\n",
              "      <th>sec7_mean</th>\n",
              "      <th>sec7_std</th>\n",
              "      <th>sec8_mean</th>\n",
              "      <th>sec8_std</th>\n",
              "      <th>sec9_mean</th>\n",
              "      <th>sec9_std</th>\n",
              "      <th>sec10_mean</th>\n",
              "      <th>sec10_std</th>\n",
              "      <th>sec11_mean</th>\n",
              "      <th>sec11_std</th>\n",
              "      <th>sec12_mean</th>\n",
              "      <th>sec12_std</th>\n",
              "      <th>sec13_mean</th>\n",
              "      <th>sec13_std</th>\n",
              "      <th>sec14_mean</th>\n",
              "      <th>sec14_std</th>\n",
              "      <th>sec15_mean</th>\n",
              "      <th>sec15_std</th>\n",
              "      <th>sec16_mean</th>\n",
              "      <th>sec16_std</th>\n",
              "      <th>sec17_mean</th>\n",
              "      <th>sec17_std</th>\n",
              "      <th>sec18_mean</th>\n",
              "      <th>sec18_std</th>\n",
              "      <th>sec19_mean</th>\n",
              "      <th>sec19_std</th>\n",
              "      <th>sec20_mean</th>\n",
              "      <th>sec20_std</th>\n",
              "      <th>sec21_mean</th>\n",
              "      <th>sec21_std</th>\n",
              "      <th>sec22_mean</th>\n",
              "      <th>sec22_std</th>\n",
              "      <th>sec23_mean</th>\n",
              "      <th>sec23_std</th>\n",
              "      <th>sec24_mean</th>\n",
              "      <th>sec24_std</th>\n",
              "      <th>sec25_mean</th>\n",
              "      <th>sec25_std</th>\n",
              "    </tr>\n",
              "  </thead>\n",
              "  <tbody>\n",
              "    <tr>\n",
              "      <th>0</th>\n",
              "      <td>cam</td>\n",
              "      <td>255.0</td>\n",
              "      <td>0.0</td>\n",
              "      <td>255.0</td>\n",
              "      <td>0.0</td>\n",
              "      <td>240.997917</td>\n",
              "      <td>42.784387</td>\n",
              "      <td>244.629583</td>\n",
              "      <td>38.809802</td>\n",
              "      <td>255.0</td>\n",
              "      <td>0.0</td>\n",
              "      <td>255.0</td>\n",
              "      <td>0.0</td>\n",
              "      <td>210.904583</td>\n",
              "      <td>68.538685</td>\n",
              "      <td>157.355625</td>\n",
              "      <td>68.617308</td>\n",
              "      <td>167.122083</td>\n",
              "      <td>73.385972</td>\n",
              "      <td>254.633125</td>\n",
              "      <td>5.954776</td>\n",
              "      <td>255.0</td>\n",
              "      <td>0.0</td>\n",
              "      <td>147.504583</td>\n",
              "      <td>81.203561</td>\n",
              "      <td>118.632292</td>\n",
              "      <td>71.443527</td>\n",
              "      <td>114.863958</td>\n",
              "      <td>65.631951</td>\n",
              "      <td>249.362708</td>\n",
              "      <td>25.579278</td>\n",
              "      <td>255.000000</td>\n",
              "      <td>0.000000</td>\n",
              "      <td>171.457708</td>\n",
              "      <td>83.039929</td>\n",
              "      <td>97.896458</td>\n",
              "      <td>59.766587</td>\n",
              "      <td>143.090208</td>\n",
              "      <td>74.592127</td>\n",
              "      <td>255.000000</td>\n",
              "      <td>0.000000</td>\n",
              "      <td>255.000000</td>\n",
              "      <td>0.000000</td>\n",
              "      <td>249.137708</td>\n",
              "      <td>25.490374</td>\n",
              "      <td>145.451458</td>\n",
              "      <td>38.057513</td>\n",
              "      <td>235.281042</td>\n",
              "      <td>40.747863</td>\n",
              "      <td>255.000000</td>\n",
              "      <td>0.000000</td>\n",
              "    </tr>\n",
              "    <tr>\n",
              "      <th>1</th>\n",
              "      <td>cam</td>\n",
              "      <td>255.0</td>\n",
              "      <td>0.0</td>\n",
              "      <td>255.0</td>\n",
              "      <td>0.0</td>\n",
              "      <td>215.432083</td>\n",
              "      <td>61.066555</td>\n",
              "      <td>218.676875</td>\n",
              "      <td>59.705684</td>\n",
              "      <td>255.0</td>\n",
              "      <td>0.0</td>\n",
              "      <td>255.0</td>\n",
              "      <td>0.0</td>\n",
              "      <td>234.460625</td>\n",
              "      <td>50.553236</td>\n",
              "      <td>148.225833</td>\n",
              "      <td>68.439008</td>\n",
              "      <td>138.117083</td>\n",
              "      <td>66.298360</td>\n",
              "      <td>237.984167</td>\n",
              "      <td>46.479235</td>\n",
              "      <td>255.0</td>\n",
              "      <td>0.0</td>\n",
              "      <td>206.276458</td>\n",
              "      <td>71.538897</td>\n",
              "      <td>126.882083</td>\n",
              "      <td>61.449348</td>\n",
              "      <td>113.075625</td>\n",
              "      <td>64.503749</td>\n",
              "      <td>195.871458</td>\n",
              "      <td>63.604729</td>\n",
              "      <td>255.000000</td>\n",
              "      <td>0.000000</td>\n",
              "      <td>223.457708</td>\n",
              "      <td>58.786151</td>\n",
              "      <td>119.735625</td>\n",
              "      <td>68.434612</td>\n",
              "      <td>106.986875</td>\n",
              "      <td>56.843679</td>\n",
              "      <td>167.947708</td>\n",
              "      <td>25.292991</td>\n",
              "      <td>255.000000</td>\n",
              "      <td>0.000000</td>\n",
              "      <td>255.000000</td>\n",
              "      <td>0.000000</td>\n",
              "      <td>196.491458</td>\n",
              "      <td>58.809175</td>\n",
              "      <td>144.461042</td>\n",
              "      <td>33.787537</td>\n",
              "      <td>164.457500</td>\n",
              "      <td>26.205150</td>\n",
              "    </tr>\n",
              "    <tr>\n",
              "      <th>2</th>\n",
              "      <td>cam</td>\n",
              "      <td>255.0</td>\n",
              "      <td>0.0</td>\n",
              "      <td>255.0</td>\n",
              "      <td>0.0</td>\n",
              "      <td>244.740625</td>\n",
              "      <td>38.830921</td>\n",
              "      <td>225.715417</td>\n",
              "      <td>60.299425</td>\n",
              "      <td>255.0</td>\n",
              "      <td>0.0</td>\n",
              "      <td>255.0</td>\n",
              "      <td>0.0</td>\n",
              "      <td>253.215417</td>\n",
              "      <td>17.264567</td>\n",
              "      <td>175.295833</td>\n",
              "      <td>74.812357</td>\n",
              "      <td>140.352500</td>\n",
              "      <td>65.215399</td>\n",
              "      <td>186.575833</td>\n",
              "      <td>68.053463</td>\n",
              "      <td>255.0</td>\n",
              "      <td>0.0</td>\n",
              "      <td>222.249792</td>\n",
              "      <td>66.675479</td>\n",
              "      <td>126.546875</td>\n",
              "      <td>74.312650</td>\n",
              "      <td>110.025625</td>\n",
              "      <td>73.885934</td>\n",
              "      <td>150.506042</td>\n",
              "      <td>59.436931</td>\n",
              "      <td>255.000000</td>\n",
              "      <td>0.000000</td>\n",
              "      <td>222.599375</td>\n",
              "      <td>61.768301</td>\n",
              "      <td>110.061875</td>\n",
              "      <td>71.501647</td>\n",
              "      <td>101.471875</td>\n",
              "      <td>65.217278</td>\n",
              "      <td>194.707917</td>\n",
              "      <td>59.531197</td>\n",
              "      <td>255.000000</td>\n",
              "      <td>0.000000</td>\n",
              "      <td>253.499583</td>\n",
              "      <td>12.345309</td>\n",
              "      <td>145.988542</td>\n",
              "      <td>55.955068</td>\n",
              "      <td>173.085000</td>\n",
              "      <td>64.270181</td>\n",
              "      <td>255.000000</td>\n",
              "      <td>0.000000</td>\n",
              "    </tr>\n",
              "    <tr>\n",
              "      <th>3</th>\n",
              "      <td>cam</td>\n",
              "      <td>255.0</td>\n",
              "      <td>0.0</td>\n",
              "      <td>255.0</td>\n",
              "      <td>0.0</td>\n",
              "      <td>254.470625</td>\n",
              "      <td>9.078361</td>\n",
              "      <td>255.000000</td>\n",
              "      <td>0.000000</td>\n",
              "      <td>255.0</td>\n",
              "      <td>0.0</td>\n",
              "      <td>255.0</td>\n",
              "      <td>0.0</td>\n",
              "      <td>244.151250</td>\n",
              "      <td>40.371721</td>\n",
              "      <td>164.369167</td>\n",
              "      <td>77.095679</td>\n",
              "      <td>201.943750</td>\n",
              "      <td>69.575952</td>\n",
              "      <td>255.000000</td>\n",
              "      <td>0.000000</td>\n",
              "      <td>255.0</td>\n",
              "      <td>0.0</td>\n",
              "      <td>190.076458</td>\n",
              "      <td>78.091470</td>\n",
              "      <td>140.571042</td>\n",
              "      <td>69.412436</td>\n",
              "      <td>140.358542</td>\n",
              "      <td>69.184789</td>\n",
              "      <td>247.091875</td>\n",
              "      <td>28.445242</td>\n",
              "      <td>227.753333</td>\n",
              "      <td>42.868996</td>\n",
              "      <td>144.961458</td>\n",
              "      <td>61.480423</td>\n",
              "      <td>110.751667</td>\n",
              "      <td>69.199503</td>\n",
              "      <td>114.276042</td>\n",
              "      <td>66.087047</td>\n",
              "      <td>200.908958</td>\n",
              "      <td>50.379219</td>\n",
              "      <td>167.841875</td>\n",
              "      <td>29.689957</td>\n",
              "      <td>144.565208</td>\n",
              "      <td>34.806877</td>\n",
              "      <td>127.418750</td>\n",
              "      <td>51.781742</td>\n",
              "      <td>131.373333</td>\n",
              "      <td>41.699228</td>\n",
              "      <td>151.464167</td>\n",
              "      <td>33.031115</td>\n",
              "    </tr>\n",
              "    <tr>\n",
              "      <th>4</th>\n",
              "      <td>cam</td>\n",
              "      <td>255.0</td>\n",
              "      <td>0.0</td>\n",
              "      <td>255.0</td>\n",
              "      <td>0.0</td>\n",
              "      <td>250.029167</td>\n",
              "      <td>26.273275</td>\n",
              "      <td>248.145417</td>\n",
              "      <td>32.535694</td>\n",
              "      <td>255.0</td>\n",
              "      <td>0.0</td>\n",
              "      <td>255.0</td>\n",
              "      <td>0.0</td>\n",
              "      <td>244.839167</td>\n",
              "      <td>37.625717</td>\n",
              "      <td>163.560417</td>\n",
              "      <td>71.434779</td>\n",
              "      <td>159.697917</td>\n",
              "      <td>74.110809</td>\n",
              "      <td>248.203750</td>\n",
              "      <td>29.552308</td>\n",
              "      <td>255.0</td>\n",
              "      <td>0.0</td>\n",
              "      <td>192.776875</td>\n",
              "      <td>76.245751</td>\n",
              "      <td>118.653958</td>\n",
              "      <td>67.093567</td>\n",
              "      <td>132.781875</td>\n",
              "      <td>67.735415</td>\n",
              "      <td>181.968750</td>\n",
              "      <td>61.272981</td>\n",
              "      <td>229.462917</td>\n",
              "      <td>42.210685</td>\n",
              "      <td>141.808333</td>\n",
              "      <td>55.815450</td>\n",
              "      <td>108.662500</td>\n",
              "      <td>66.973240</td>\n",
              "      <td>116.958125</td>\n",
              "      <td>63.289722</td>\n",
              "      <td>153.314792</td>\n",
              "      <td>55.220885</td>\n",
              "      <td>235.480208</td>\n",
              "      <td>38.116046</td>\n",
              "      <td>157.176042</td>\n",
              "      <td>33.810767</td>\n",
              "      <td>125.377500</td>\n",
              "      <td>58.168555</td>\n",
              "      <td>125.131250</td>\n",
              "      <td>52.583951</td>\n",
              "      <td>150.344167</td>\n",
              "      <td>33.375900</td>\n",
              "    </tr>\n",
              "  </tbody>\n",
              "</table>\n",
              "</div>"
            ],
            "text/plain": [
              "  name  sec1_mean  sec1_std  ...  sec24_std  sec25_mean  sec25_std\n",
              "0  cam      255.0       0.0  ...  40.747863  255.000000   0.000000\n",
              "1  cam      255.0       0.0  ...  33.787537  164.457500  26.205150\n",
              "2  cam      255.0       0.0  ...  64.270181  255.000000   0.000000\n",
              "3  cam      255.0       0.0  ...  41.699228  151.464167  33.031115\n",
              "4  cam      255.0       0.0  ...  52.583951  150.344167  33.375900\n",
              "\n",
              "[5 rows x 51 columns]"
            ]
          },
          "metadata": {
            "tags": []
          },
          "execution_count": 27
        }
      ]
    },
    {
      "cell_type": "code",
      "metadata": {
        "id": "T655OdflajQ3",
        "colab_type": "code",
        "colab": {}
      },
      "source": [
        "labels = df['name']\n",
        "features = df.drop(['name'], axis=1)"
      ],
      "execution_count": null,
      "outputs": []
    },
    {
      "cell_type": "code",
      "metadata": {
        "id": "kET_iVDmaWcw",
        "colab_type": "code",
        "colab": {}
      },
      "source": [
        "from sklearn.model_selection import train_test_split\n",
        "X_train, X_test, Y_train, Y_test = train_test_split(features, labels, test_size=0.25)"
      ],
      "execution_count": null,
      "outputs": []
    },
    {
      "cell_type": "code",
      "metadata": {
        "id": "8wsXGMocayt5",
        "colab_type": "code",
        "colab": {
          "base_uri": "https://localhost:8080/",
          "height": 85
        },
        "outputId": "e2c288c8-a603-4bf5-c304-25e700696f34"
      },
      "source": [
        "print(X_train.shape)\n",
        "print(X_test.shape)\n",
        "print(Y_train.shape)\n",
        "print(Y_test.shape)"
      ],
      "execution_count": null,
      "outputs": [
        {
          "output_type": "stream",
          "text": [
            "(45, 50)\n",
            "(15, 50)\n",
            "(45,)\n",
            "(15,)\n"
          ],
          "name": "stdout"
        }
      ]
    },
    {
      "cell_type": "code",
      "metadata": {
        "id": "TDAn2tq1a8g7",
        "colab_type": "code",
        "colab": {}
      },
      "source": [
        "from sklearn.ensemble import RandomForestClassifier\n",
        "from sklearn.svm import SVC\n",
        "from sklearn.neighbors import KNeighborsClassifier\n",
        "\n",
        "from sklearn.metrics import accuracy_score"
      ],
      "execution_count": null,
      "outputs": []
    },
    {
      "cell_type": "code",
      "metadata": {
        "id": "iJ3Qy0b_bE1S",
        "colab_type": "code",
        "colab": {
          "base_uri": "https://localhost:8080/",
          "height": 119
        },
        "outputId": "2f6f9047-bec0-4361-a418-8b7fadf7aaed"
      },
      "source": [
        "models = []\n",
        "models.append(('rfc', RandomForestClassifier()))\n",
        "models.append(('svc', SVC()))\n",
        "models.append(('knn', KNeighborsClassifier()))\n",
        "\n",
        "\n",
        "for name, model in models:\n",
        "  print(name)\n",
        "  model.fit(X_train, Y_train)\n",
        "  #print('\\ttrain', accuracy_score(Y_train, Y_test))\n",
        "  pred = model.predict(X_test)\n",
        "  print('\\ttest', accuracy_score(Y_test, pred))"
      ],
      "execution_count": null,
      "outputs": [
        {
          "output_type": "stream",
          "text": [
            "rfc\n",
            "\ttest 0.9333333333333333\n",
            "svc\n",
            "\ttest 0.8666666666666667\n",
            "knn\n",
            "\ttest 0.8666666666666667\n"
          ],
          "name": "stdout"
        }
      ]
    },
    {
      "cell_type": "code",
      "metadata": {
        "id": "DNSRpoXebIaN",
        "colab_type": "code",
        "colab": {}
      },
      "source": [
        "def create_df_with_one_img(img):\n",
        "  all_imgs = np.zeros((1, 50), dtype='uint8')\n",
        "  img_features = features_grid(img)\n",
        "  #img_features = np.append(img_features, name)\n",
        "  img_features = img_features.reshape(1, img_features.shape[0])\n",
        "\n",
        "  all_imgs = np.append(all_imgs, img_features, axis=0)\n",
        "  df = pd.DataFrame(all_imgs[1:], columns=feature_names)\n",
        "  return df"
      ],
      "execution_count": null,
      "outputs": []
    },
    {
      "cell_type": "code",
      "metadata": {
        "id": "e7peDqVDbLHI",
        "colab_type": "code",
        "colab": {
          "base_uri": "https://localhost:8080/",
          "height": 100
        },
        "outputId": "e57c38a6-fb80-4955-84ef-05d7b4521485"
      },
      "source": [
        "img = cv2.imread('/content/cachua.jpg')\n",
        "img = cv2.resize(img, (200, 200))\n",
        "img = remove_background(img)\n",
        "\n",
        "df = create_df_with_one_img(img)\n",
        "df.head()"
      ],
      "execution_count": null,
      "outputs": [
        {
          "output_type": "execute_result",
          "data": {
            "text/html": [
              "<div>\n",
              "<style scoped>\n",
              "    .dataframe tbody tr th:only-of-type {\n",
              "        vertical-align: middle;\n",
              "    }\n",
              "\n",
              "    .dataframe tbody tr th {\n",
              "        vertical-align: top;\n",
              "    }\n",
              "\n",
              "    .dataframe thead th {\n",
              "        text-align: right;\n",
              "    }\n",
              "</style>\n",
              "<table border=\"1\" class=\"dataframe\">\n",
              "  <thead>\n",
              "    <tr style=\"text-align: right;\">\n",
              "      <th></th>\n",
              "      <th>sec1_mean</th>\n",
              "      <th>sec1_std</th>\n",
              "      <th>sec2_mean</th>\n",
              "      <th>sec2_std</th>\n",
              "      <th>sec3_mean</th>\n",
              "      <th>sec3_std</th>\n",
              "      <th>sec4_mean</th>\n",
              "      <th>sec4_std</th>\n",
              "      <th>sec5_mean</th>\n",
              "      <th>sec5_std</th>\n",
              "      <th>sec6_mean</th>\n",
              "      <th>sec6_std</th>\n",
              "      <th>sec7_mean</th>\n",
              "      <th>sec7_std</th>\n",
              "      <th>sec8_mean</th>\n",
              "      <th>sec8_std</th>\n",
              "      <th>sec9_mean</th>\n",
              "      <th>sec9_std</th>\n",
              "      <th>sec10_mean</th>\n",
              "      <th>sec10_std</th>\n",
              "      <th>sec11_mean</th>\n",
              "      <th>sec11_std</th>\n",
              "      <th>sec12_mean</th>\n",
              "      <th>sec12_std</th>\n",
              "      <th>sec13_mean</th>\n",
              "      <th>sec13_std</th>\n",
              "      <th>sec14_mean</th>\n",
              "      <th>sec14_std</th>\n",
              "      <th>sec15_mean</th>\n",
              "      <th>sec15_std</th>\n",
              "      <th>sec16_mean</th>\n",
              "      <th>sec16_std</th>\n",
              "      <th>sec17_mean</th>\n",
              "      <th>sec17_std</th>\n",
              "      <th>sec18_mean</th>\n",
              "      <th>sec18_std</th>\n",
              "      <th>sec19_mean</th>\n",
              "      <th>sec19_std</th>\n",
              "      <th>sec20_mean</th>\n",
              "      <th>sec20_std</th>\n",
              "      <th>sec21_mean</th>\n",
              "      <th>sec21_std</th>\n",
              "      <th>sec22_mean</th>\n",
              "      <th>sec22_std</th>\n",
              "      <th>sec23_mean</th>\n",
              "      <th>sec23_std</th>\n",
              "      <th>sec24_mean</th>\n",
              "      <th>sec24_std</th>\n",
              "      <th>sec25_mean</th>\n",
              "      <th>sec25_std</th>\n",
              "    </tr>\n",
              "  </thead>\n",
              "  <tbody>\n",
              "    <tr>\n",
              "      <th>0</th>\n",
              "      <td>255.0</td>\n",
              "      <td>0.0</td>\n",
              "      <td>246.079792</td>\n",
              "      <td>35.646004</td>\n",
              "      <td>215.511458</td>\n",
              "      <td>73.025705</td>\n",
              "      <td>250.5675</td>\n",
              "      <td>26.282369</td>\n",
              "      <td>255.0</td>\n",
              "      <td>0.0</td>\n",
              "      <td>228.031042</td>\n",
              "      <td>69.87533</td>\n",
              "      <td>158.575208</td>\n",
              "      <td>76.016115</td>\n",
              "      <td>134.77625</td>\n",
              "      <td>71.036085</td>\n",
              "      <td>152.876042</td>\n",
              "      <td>75.428017</td>\n",
              "      <td>201.595833</td>\n",
              "      <td>88.430102</td>\n",
              "      <td>175.579583</td>\n",
              "      <td>96.784093</td>\n",
              "      <td>91.119583</td>\n",
              "      <td>90.19167</td>\n",
              "      <td>101.581667</td>\n",
              "      <td>90.349587</td>\n",
              "      <td>93.440625</td>\n",
              "      <td>91.743471</td>\n",
              "      <td>146.918125</td>\n",
              "      <td>99.001503</td>\n",
              "      <td>201.2175</td>\n",
              "      <td>86.680675</td>\n",
              "      <td>78.362708</td>\n",
              "      <td>82.426975</td>\n",
              "      <td>85.87</td>\n",
              "      <td>78.674343</td>\n",
              "      <td>103.792917</td>\n",
              "      <td>75.824328</td>\n",
              "      <td>210.192292</td>\n",
              "      <td>65.957321</td>\n",
              "      <td>254.129167</td>\n",
              "      <td>11.13274</td>\n",
              "      <td>154.82375</td>\n",
              "      <td>87.580048</td>\n",
              "      <td>113.816875</td>\n",
              "      <td>77.960356</td>\n",
              "      <td>159.087917</td>\n",
              "      <td>71.5727</td>\n",
              "      <td>254.177292</td>\n",
              "      <td>9.679877</td>\n",
              "    </tr>\n",
              "  </tbody>\n",
              "</table>\n",
              "</div>"
            ],
            "text/plain": [
              "   sec1_mean  sec1_std   sec2_mean  ...  sec24_std  sec25_mean  sec25_std\n",
              "0      255.0       0.0  246.079792  ...    71.5727  254.177292   9.679877\n",
              "\n",
              "[1 rows x 50 columns]"
            ]
          },
          "metadata": {
            "tags": []
          },
          "execution_count": 44
        }
      ]
    },
    {
      "cell_type": "code",
      "metadata": {
        "id": "1JM76GhQgXxh",
        "colab_type": "code",
        "colab": {
          "base_uri": "https://localhost:8080/",
          "height": 68
        },
        "outputId": "72135da2-b9d6-4dde-93b1-95bf03ea7398"
      },
      "source": [
        "for name, model in models:\n",
        "  pred = model.predict(df)\n",
        "  print(name, pred)"
      ],
      "execution_count": null,
      "outputs": [
        {
          "output_type": "stream",
          "text": [
            "rfc ['chuoi']\n",
            "svc ['chuoi']\n",
            "knn ['cachua']\n"
          ],
          "name": "stdout"
        }
      ]
    },
    {
      "cell_type": "code",
      "metadata": {
        "id": "7SN557SmnGwt",
        "colab_type": "code",
        "colab": {
          "base_uri": "https://localhost:8080/",
          "height": 1000
        },
        "outputId": "c653fc03-141a-459a-8675-fc48aa44f81d"
      },
      "source": [
        "path = '/content/drive/My Drive/học kì 4 uit/Fruit_60_imgs'\n",
        "folder_name = os.listdir(path)\n",
        "for name in folder_name:\n",
        "  for img in os.listdir(path+'/'+name):\n",
        "    print(img)"
      ],
      "execution_count": null,
      "outputs": [
        {
          "output_type": "stream",
          "text": [
            "cam_0.jpg\n",
            "cam_1.jpg\n",
            "cam_12.jpg\n",
            "cam_2.jpg\n",
            "cam_3.jpg\n",
            "cam_4.jpg\n",
            "cam_5.jpg\n",
            "cam_6.jpg\n",
            "cam_7.jpg\n",
            "cam_8.jpg\n",
            "cam_9.jpg\n",
            "cam_10.jpg\n",
            "cam_11.jpg\n",
            "cam_13.jpg\n",
            "cam_14.jpg\n",
            "cam_15.jpg\n",
            "cam_16.jpg\n",
            "cam_17.jpg\n",
            "cam_18.jpg\n",
            "cam_19.jpg\n",
            "cachua_7.jpg\n",
            "cachua_12.jpg\n",
            "cachua_13.jpg\n",
            "cachua_17.jpg\n",
            "cachua_14.jpg\n",
            "cachua_15.jpg\n",
            "cachua_3.jpg\n",
            "cachua_19.jpg\n",
            "cachua_18.jpg\n",
            "cachua_5.jpg\n",
            "cachua_4.jpg\n",
            "cachua_0.jpg\n",
            "cachua_6.jpg\n",
            "cachua_8.jpg\n",
            "cachua_9.jpg\n",
            "cachua_1.jpg\n",
            "cachua_10.jpg\n",
            "cachua_16.jpg\n",
            "cachua_2.jpg\n",
            "cachua_11.jpg\n",
            "chuoi_0.jpg\n",
            "chuoi_1.jpg\n",
            "chuoi_12.jpg\n",
            "chuoi_2.jpg\n",
            "chuoi_3.jpg\n",
            "chuoi_4.jpg\n",
            "chuoi_6.jpg\n",
            "chuoi_7.jpg\n",
            "chuoi_9.jpg\n",
            "chuoi_8.jpg\n",
            "chuoi_10.jpg\n",
            "chuoi_11.jpg\n",
            "chuoi_13.jpg\n",
            "chuoi_14.jpg\n",
            "chuoi_15.jpg\n",
            "chuoi_16.jpg\n",
            "chuoi_17.jpg\n",
            "chuoi_18.jpg\n",
            "chuoi_19.jpg\n",
            "chuoi_20.jpg\n"
          ],
          "name": "stdout"
        }
      ]
    }
  ]
}