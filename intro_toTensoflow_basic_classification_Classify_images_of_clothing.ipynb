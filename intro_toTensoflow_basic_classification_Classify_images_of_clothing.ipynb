{
  "nbformat": 4,
  "nbformat_minor": 0,
  "metadata": {
    "colab": {
      "name": "intro toTensoflow-basic classification: Classify images of clothing.ipynb",
      "provenance": [],
      "authorship_tag": "ABX9TyPxZW7gefMG9/xIXcbe95By",
      "include_colab_link": true
    },
    "kernelspec": {
      "name": "python3",
      "display_name": "Python 3"
    }
  },
  "cells": [
    {
      "cell_type": "markdown",
      "metadata": {
        "id": "view-in-github",
        "colab_type": "text"
      },
      "source": [
        "<a href=\"https://colab.research.google.com/github/dangcaptkd/temp1/blob/master/intro_toTensoflow_basic_classification_Classify_images_of_clothing.ipynb\" target=\"_parent\"><img src=\"https://colab.research.google.com/assets/colab-badge.svg\" alt=\"Open In Colab\"/></a>"
      ]
    },
    {
      "cell_type": "markdown",
      "metadata": {
        "id": "t2_VNEaF7sBz",
        "colab_type": "text"
      },
      "source": [
        "This intro uses tk.keras, a high-level API to build and train model in Tensorflow"
      ]
    },
    {
      "cell_type": "code",
      "metadata": {
        "id": "bGQWHiOwilT8",
        "colab_type": "code",
        "colab": {}
      },
      "source": [
        "import tensorflow as tf\n",
        "from tensorflow import keras\n",
        "import numpy as np\n",
        "import matplotlib.pyplot as plt"
      ],
      "execution_count": 0,
      "outputs": []
    },
    {
      "cell_type": "markdown",
      "metadata": {
        "id": "gSDGQxI978QC",
        "colab_type": "text"
      },
      "source": [
        "Use the fashion_mnist dataset in keras.datasets.\n",
        "(keras.datasets provide a few toy datasets (already vectorized, in numpy format))"
      ]
    },
    {
      "cell_type": "code",
      "metadata": {
        "id": "lmoEmazCj49p",
        "colab_type": "code",
        "colab": {
          "base_uri": "https://localhost:8080/",
          "height": 153
        },
        "outputId": "e8b83bb6-755f-424a-a40e-bd560d1b5a23"
      },
      "source": [
        "fashion_mnist = keras.datasets.fashion_mnist\n",
        "(train_images, train_labels), (test_images, test_labels) = fashion_mnist.load_data()"
      ],
      "execution_count": 2,
      "outputs": [
        {
          "output_type": "stream",
          "text": [
            "Downloading data from https://storage.googleapis.com/tensorflow/tf-keras-datasets/train-labels-idx1-ubyte.gz\n",
            "32768/29515 [=================================] - 0s 0us/step\n",
            "Downloading data from https://storage.googleapis.com/tensorflow/tf-keras-datasets/train-images-idx3-ubyte.gz\n",
            "26427392/26421880 [==============================] - 0s 0us/step\n",
            "Downloading data from https://storage.googleapis.com/tensorflow/tf-keras-datasets/t10k-labels-idx1-ubyte.gz\n",
            "8192/5148 [===============================================] - 0s 0us/step\n",
            "Downloading data from https://storage.googleapis.com/tensorflow/tf-keras-datasets/t10k-images-idx3-ubyte.gz\n",
            "4423680/4422102 [==============================] - 0s 0us/step\n"
          ],
          "name": "stdout"
        }
      ]
    },
    {
      "cell_type": "markdown",
      "metadata": {
        "id": "88X5848l8xqT",
        "colab_type": "text"
      },
      "source": [
        "The images are 28x28 Numpy arrays, with pixel values ranging from 0 to 255. The labels are an array of intergers, ranging from 0 to 9. These correspond to the class of clothing the image represents: T-shirt/top, Trouser, Pullover, Dress, coat, sandal, Shirt, Sneaker, Bag and Ankel boot."
      ]
    },
    {
      "cell_type": "code",
      "metadata": {
        "id": "Go5GBLDLlEDx",
        "colab_type": "code",
        "colab": {}
      },
      "source": [
        "class_names = ['T-shirt/top', 'Trouser', 'Pullover', 'Dress', 'Coat', 'Sandal', 'Shirt', 'Sneaker', 'Bag', 'Ankel boot']"
      ],
      "execution_count": 0,
      "outputs": []
    },
    {
      "cell_type": "markdown",
      "metadata": {
        "id": "KmItYuO198c-",
        "colab_type": "text"
      },
      "source": [
        "# Explore the data"
      ]
    },
    {
      "cell_type": "code",
      "metadata": {
        "id": "SNTbHH8jljam",
        "colab_type": "code",
        "outputId": "c7a7fa7d-9444-4091-978e-3c50679c0194",
        "colab": {
          "base_uri": "https://localhost:8080/",
          "height": 85
        }
      },
      "source": [
        "print(train_images.shape)\n",
        "print(train_labels.shape)\n",
        "print(test_images.shape)\n",
        "print(test_labels.shape)"
      ],
      "execution_count": 4,
      "outputs": [
        {
          "output_type": "stream",
          "text": [
            "(60000, 28, 28)\n",
            "(60000,)\n",
            "(10000, 28, 28)\n",
            "(10000,)\n"
          ],
          "name": "stdout"
        }
      ]
    },
    {
      "cell_type": "code",
      "metadata": {
        "id": "kyq-x1Z4l9xZ",
        "colab_type": "code",
        "outputId": "64d156b1-ea7e-4d69-a261-e9743bef9b23",
        "colab": {
          "base_uri": "https://localhost:8080/",
          "height": 850
        }
      },
      "source": [
        "train_images"
      ],
      "execution_count": 5,
      "outputs": [
        {
          "output_type": "execute_result",
          "data": {
            "text/plain": [
              "array([[[0, 0, 0, ..., 0, 0, 0],\n",
              "        [0, 0, 0, ..., 0, 0, 0],\n",
              "        [0, 0, 0, ..., 0, 0, 0],\n",
              "        ...,\n",
              "        [0, 0, 0, ..., 0, 0, 0],\n",
              "        [0, 0, 0, ..., 0, 0, 0],\n",
              "        [0, 0, 0, ..., 0, 0, 0]],\n",
              "\n",
              "       [[0, 0, 0, ..., 0, 0, 0],\n",
              "        [0, 0, 0, ..., 0, 0, 0],\n",
              "        [0, 0, 0, ..., 0, 0, 0],\n",
              "        ...,\n",
              "        [0, 0, 0, ..., 0, 0, 0],\n",
              "        [0, 0, 0, ..., 0, 0, 0],\n",
              "        [0, 0, 0, ..., 0, 0, 0]],\n",
              "\n",
              "       [[0, 0, 0, ..., 0, 0, 0],\n",
              "        [0, 0, 0, ..., 0, 0, 0],\n",
              "        [0, 0, 0, ..., 0, 0, 0],\n",
              "        ...,\n",
              "        [0, 0, 0, ..., 0, 0, 0],\n",
              "        [0, 0, 0, ..., 0, 0, 0],\n",
              "        [0, 0, 0, ..., 0, 0, 0]],\n",
              "\n",
              "       ...,\n",
              "\n",
              "       [[0, 0, 0, ..., 0, 0, 0],\n",
              "        [0, 0, 0, ..., 0, 0, 0],\n",
              "        [0, 0, 0, ..., 0, 0, 0],\n",
              "        ...,\n",
              "        [0, 0, 0, ..., 0, 0, 0],\n",
              "        [0, 0, 0, ..., 0, 0, 0],\n",
              "        [0, 0, 0, ..., 0, 0, 0]],\n",
              "\n",
              "       [[0, 0, 0, ..., 0, 0, 0],\n",
              "        [0, 0, 0, ..., 0, 0, 0],\n",
              "        [0, 0, 0, ..., 0, 0, 0],\n",
              "        ...,\n",
              "        [0, 0, 0, ..., 0, 0, 0],\n",
              "        [0, 0, 0, ..., 0, 0, 0],\n",
              "        [0, 0, 0, ..., 0, 0, 0]],\n",
              "\n",
              "       [[0, 0, 0, ..., 0, 0, 0],\n",
              "        [0, 0, 0, ..., 0, 0, 0],\n",
              "        [0, 0, 0, ..., 0, 0, 0],\n",
              "        ...,\n",
              "        [0, 0, 0, ..., 0, 0, 0],\n",
              "        [0, 0, 0, ..., 0, 0, 0],\n",
              "        [0, 0, 0, ..., 0, 0, 0]]], dtype=uint8)"
            ]
          },
          "metadata": {
            "tags": []
          },
          "execution_count": 5
        }
      ]
    },
    {
      "cell_type": "code",
      "metadata": {
        "id": "ybdVrLpDmFbD",
        "colab_type": "code",
        "outputId": "4941fdcf-3e17-4fe1-b65e-42d57f14c62e",
        "colab": {
          "base_uri": "https://localhost:8080/",
          "height": 34
        }
      },
      "source": [
        "train_labels"
      ],
      "execution_count": 6,
      "outputs": [
        {
          "output_type": "execute_result",
          "data": {
            "text/plain": [
              "array([9, 0, 0, ..., 3, 0, 5], dtype=uint8)"
            ]
          },
          "metadata": {
            "tags": []
          },
          "execution_count": 6
        }
      ]
    },
    {
      "cell_type": "markdown",
      "metadata": {
        "id": "44YQAc05-Y1Q",
        "colab_type": "text"
      },
      "source": [
        "# Preprocess the data"
      ]
    },
    {
      "cell_type": "markdown",
      "metadata": {
        "id": "MIu0X1dU-eUx",
        "colab_type": "text"
      },
      "source": [
        "The data must be preprocessed before training. \n",
        "See the pixel values fall in the range of 0 to 255:"
      ]
    },
    {
      "cell_type": "code",
      "metadata": {
        "id": "OD2fgA6-mH0h",
        "colab_type": "code",
        "outputId": "dd5f663c-c814-4d3c-a75a-37b1d87a52ed",
        "colab": {
          "base_uri": "https://localhost:8080/",
          "height": 265
        }
      },
      "source": [
        "plt.imshow(train_images[1])\n",
        "plt.colorbar()\n",
        "plt.show()"
      ],
      "execution_count": 7,
      "outputs": [
        {
          "output_type": "display_data",
          "data": {
            "image/png": "[encoded data removed]",
            "text/plain": [
              "<Figure size 432x288 with 2 Axes>"
            ]
          },
          "metadata": {
            "tags": [],
            "needs_background": "light"
          }
        }
      ]
    },
    {
      "cell_type": "markdown",
      "metadata": {
        "id": "MEkLDb3i-2Nv",
        "colab_type": "text"
      },
      "source": [
        "Scale these values to a range of 0 to 1 before feeding them to the nerual network model. To do so, divide the values by 255. \n",
        "\n",
        "It's import that the training set and the testing set be preprocessed in the same way."
      ]
    },
    {
      "cell_type": "code",
      "metadata": {
        "id": "QgxzWOZSnbsd",
        "colab_type": "code",
        "colab": {}
      },
      "source": [
        "train_images = train_images/255\n",
        "test_images = test_images/255"
      ],
      "execution_count": 0,
      "outputs": []
    },
    {
      "cell_type": "markdown",
      "metadata": {
        "id": "GQEFh05e_bPe",
        "colab_type": "text"
      },
      "source": [
        "Let's display the first 25 images from the training set and the name below them to verify that the data is in the correct format."
      ]
    },
    {
      "cell_type": "code",
      "metadata": {
        "id": "weRM5424oD0a",
        "colab_type": "code",
        "outputId": "26fc119a-c2d0-4abf-e431-e8b55283e33e",
        "colab": {
          "base_uri": "https://localhost:8080/",
          "height": 697
        }
      },
      "source": [
        "plt.figure(figsize=(12,12))\n",
        "for i in range(25):\n",
        "  plt.subplot(5,5,i+1)\n",
        "  plt.xticks([])\n",
        "  plt.yticks([])\n",
        "  plt.grid(False)\n",
        "  plt.imshow(train_images[i], cmap=plt.cm.binary)\n",
        "  plt.xlabel(class_names[train_labels[i]])\n",
        "plt.show()"
      ],
      "execution_count": 9,
      "outputs": [
        {
          "output_type": "display_data",
          "data": {
            "image/png": "[encoded data removed]",
            "text/plain": [
              "<Figure size 864x864 with 25 Axes>"
            ]
          },
          "metadata": {
            "tags": []
          }
        }
      ]
    },
    {
      "cell_type": "markdown",
      "metadata": {
        "id": "DCV_jUmP_8Be",
        "colab_type": "text"
      },
      "source": [
        "# Build the model"
      ]
    },
    {
      "cell_type": "markdown",
      "metadata": {
        "id": "8Waawe6KAOeg",
        "colab_type": "text"
      },
      "source": [
        "Building a neural network requires configuring the layers of the model, then compiling the model."
      ]
    },
    {
      "cell_type": "markdown",
      "metadata": {
        "id": "vJmDjk3xAyEl",
        "colab_type": "text"
      },
      "source": [
        "**Set up the layer**"
      ]
    },
    {
      "cell_type": "markdown",
      "metadata": {
        "id": "hou_fA3qA3Im",
        "colab_type": "text"
      },
      "source": [
        "The basic building block of a neural network is the layer. \n",
        "\n",
        "Most layers, such as tk.keras.layers.Dense, have parameters that are learned during training."
      ]
    },
    {
      "cell_type": "code",
      "metadata": {
        "id": "oemhV_s0qXTV",
        "colab_type": "code",
        "colab": {}
      },
      "source": [
        "model = keras.Sequential([\n",
        "      keras.layers.Flatten(input_shape=(28,28)),\n",
        "      keras.layers.Dense(128, activation='relu'),\n",
        "      keras.layers.Dense(10)\n",
        "])"
      ],
      "execution_count": 0,
      "outputs": []
    },
    {
      "cell_type": "markdown",
      "metadata": {
        "id": "3MUb3gP1B7kv",
        "colab_type": "text"
      },
      "source": [
        "1) tf.keras.layers.Flatten: transforms the format of images from a two-dimentional array (28x28) to a one-dimentional array (28x28=784 pixels). This layer has no parameters to learn, it only reformats the data\n",
        "\n",
        "2) tk.keras.layers.Dense: these are densely connected or fully connected, neural layers\n",
        "  \n",
        "  +) The first Dense has 128 nodes (or neurons). \n",
        "  \n",
        "  +) The last Dense returns a logits array with length of 10. Each node contains a score that indicates the current image belongs to one of the 10 classes. "
      ]
    },
    {
      "cell_type": "markdown",
      "metadata": {
        "id": "q5hUWk-HEL58",
        "colab_type": "text"
      },
      "source": [
        "**Compile the model**"
      ]
    },
    {
      "cell_type": "markdown",
      "metadata": {
        "id": "-KFKQvVHEUx9",
        "colab_type": "text"
      },
      "source": [
        "Before the model is ready for training, it needs a few more settings. These are added during the model's compile step.\n",
        "\n",
        "\n",
        "*   Loss Function: This measures how accurate the model is during training. You want to minimize this function to control model in the right direction.\n",
        "*   Optimizer: This is how the model update is updated based on the data it sees and is loss function.\n",
        "\n",
        "*   Metrics: Used to monitor the training and the testing steps. The following example uses accuracy, the fraction of the images that are correctly classified.\n",
        "\n",
        "\n",
        "\n"
      ]
    },
    {
      "cell_type": "code",
      "metadata": {
        "id": "-b7AYj-Gq3bn",
        "colab_type": "code",
        "colab": {}
      },
      "source": [
        "model.compile(optimizer='adam',\n",
        "              loss=tf.keras.losses.SparseCategoricalCrossentropy(from_logits=True),\n",
        "              metrics=['accuracy'])"
      ],
      "execution_count": 0,
      "outputs": []
    },
    {
      "cell_type": "markdown",
      "metadata": {
        "id": "XiAXR1KcGbJk",
        "colab_type": "text"
      },
      "source": [
        "**Train the model**"
      ]
    },
    {
      "cell_type": "code",
      "metadata": {
        "id": "PCtvaiB4rPKZ",
        "colab_type": "code",
        "outputId": "d498f2a0-0ab8-4775-ca4d-d5f63a704c3b",
        "colab": {
          "base_uri": "https://localhost:8080/",
          "height": 544
        }
      },
      "source": [
        "model.fit(train_images, train_labels, epochs=15)"
      ],
      "execution_count": 12,
      "outputs": [
        {
          "output_type": "stream",
          "text": [
            "Epoch 1/15\n",
            "1875/1875 [==============================] - 4s 2ms/step - loss: 0.5011 - accuracy: 0.8239\n",
            "Epoch 2/15\n",
            "1875/1875 [==============================] - 4s 2ms/step - loss: 0.3726 - accuracy: 0.8662\n",
            "Epoch 3/15\n",
            "1875/1875 [==============================] - 4s 2ms/step - loss: 0.3351 - accuracy: 0.8791\n",
            "Epoch 4/15\n",
            "1875/1875 [==============================] - 4s 2ms/step - loss: 0.3120 - accuracy: 0.8861\n",
            "Epoch 5/15\n",
            "1875/1875 [==============================] - 4s 2ms/step - loss: 0.2938 - accuracy: 0.8911\n",
            "Epoch 6/15\n",
            "1875/1875 [==============================] - 4s 2ms/step - loss: 0.2804 - accuracy: 0.8956\n",
            "Epoch 7/15\n",
            "1875/1875 [==============================] - 4s 2ms/step - loss: 0.2689 - accuracy: 0.8992\n",
            "Epoch 8/15\n",
            "1875/1875 [==============================] - 4s 2ms/step - loss: 0.2570 - accuracy: 0.9046\n",
            "Epoch 9/15\n",
            "1875/1875 [==============================] - 4s 2ms/step - loss: 0.2464 - accuracy: 0.9077\n",
            "Epoch 10/15\n",
            "1875/1875 [==============================] - 4s 2ms/step - loss: 0.2416 - accuracy: 0.9098\n",
            "Epoch 11/15\n",
            "1875/1875 [==============================] - 4s 2ms/step - loss: 0.2306 - accuracy: 0.9136\n",
            "Epoch 12/15\n",
            "1875/1875 [==============================] - 4s 2ms/step - loss: 0.2245 - accuracy: 0.9155\n",
            "Epoch 13/15\n",
            "1875/1875 [==============================] - 4s 2ms/step - loss: 0.2189 - accuracy: 0.9180\n",
            "Epoch 14/15\n",
            "1875/1875 [==============================] - 4s 2ms/step - loss: 0.2114 - accuracy: 0.9210\n",
            "Epoch 15/15\n",
            "1875/1875 [==============================] - 3s 2ms/step - loss: 0.2069 - accuracy: 0.9226\n"
          ],
          "name": "stdout"
        },
        {
          "output_type": "execute_result",
          "data": {
            "text/plain": [
              "<tensorflow.python.keras.callbacks.History at 0x7feb544420b8>"
            ]
          },
          "metadata": {
            "tags": []
          },
          "execution_count": 12
        }
      ]
    },
    {
      "cell_type": "markdown",
      "metadata": {
        "id": "9pUwo2vnGnnM",
        "colab_type": "text"
      },
      "source": [
        "Evaluate accuracy"
      ]
    },
    {
      "cell_type": "code",
      "metadata": {
        "id": "sexeZle9r8iY",
        "colab_type": "code",
        "outputId": "481a9222-2ec9-4afe-e3ed-5a73d3855969",
        "colab": {
          "base_uri": "https://localhost:8080/",
          "height": 34
        }
      },
      "source": [
        "test_loss, tess_acc = model.evaluate(test_images, test_labels, verbose=2)"
      ],
      "execution_count": 13,
      "outputs": [
        {
          "output_type": "stream",
          "text": [
            "313/313 - 0s - loss: 0.3413 - accuracy: 0.8872\n"
          ],
          "name": "stdout"
        }
      ]
    },
    {
      "cell_type": "markdown",
      "metadata": {
        "id": "6M09Vqk9G8OA",
        "colab_type": "text"
      },
      "source": [
        "**Make predictions**"
      ]
    },
    {
      "cell_type": "markdown",
      "metadata": {
        "id": "2pY9wR_DHbo_",
        "colab_type": "text"
      },
      "source": [
        "Attach a softmax layer to convert the logits to probabilities, which are easier to interpret"
      ]
    },
    {
      "cell_type": "code",
      "metadata": {
        "id": "Dqw92m_zsQwa",
        "colab_type": "code",
        "colab": {}
      },
      "source": [
        "probability_model = keras.Sequential([\n",
        "                                      model,\n",
        "                                      keras.layers.Softmax()])"
      ],
      "execution_count": 0,
      "outputs": []
    },
    {
      "cell_type": "code",
      "metadata": {
        "id": "O6-Q4QZdsvxw",
        "colab_type": "code",
        "colab": {}
      },
      "source": [
        "prediction = probability_model.predict(test_images)"
      ],
      "execution_count": 0,
      "outputs": []
    },
    {
      "cell_type": "markdown",
      "metadata": {
        "id": "SZpcvU5WIFTO",
        "colab_type": "text"
      },
      "source": [
        "Take a look at the first prediction "
      ]
    },
    {
      "cell_type": "code",
      "metadata": {
        "id": "PfiYCOHHtGd4",
        "colab_type": "code",
        "outputId": "64499d5f-e170-454e-86e4-d437d6622c04",
        "colab": {
          "base_uri": "https://localhost:8080/",
          "height": 68
        }
      },
      "source": [
        "prediction[0]"
      ],
      "execution_count": 16,
      "outputs": [
        {
          "output_type": "execute_result",
          "data": {
            "text/plain": [
              "array([6.8959549e-10, 2.9662431e-07, 7.9349215e-11, 3.9810824e-10,\n",
              "       1.3647775e-10, 9.7711709e-06, 1.1259661e-09, 8.1453733e-03,\n",
              "       4.5259143e-09, 9.9184459e-01], dtype=float32)"
            ]
          },
          "metadata": {
            "tags": []
          },
          "execution_count": 16
        }
      ]
    },
    {
      "cell_type": "markdown",
      "metadata": {
        "id": "qNVikJIfISFi",
        "colab_type": "text"
      },
      "source": [
        "A prediction is an array of 10 numbers. They present the model's \"confidence\" that the images correspond to each of 10 different articles of clothing. We can see which label has the highest confidence value."
      ]
    },
    {
      "cell_type": "code",
      "metadata": {
        "id": "Ja3q8oLqtPjW",
        "colab_type": "code",
        "outputId": "97cd869c-1ee2-4c0f-e08f-4b79b6d7cc17",
        "colab": {
          "base_uri": "https://localhost:8080/",
          "height": 34
        }
      },
      "source": [
        "np.argmax(prediction[0])"
      ],
      "execution_count": 17,
      "outputs": [
        {
          "output_type": "execute_result",
          "data": {
            "text/plain": [
              "9"
            ]
          },
          "metadata": {
            "tags": []
          },
          "execution_count": 17
        }
      ]
    },
    {
      "cell_type": "code",
      "metadata": {
        "id": "4e4ok6FRucsi",
        "colab_type": "code",
        "colab": {}
      },
      "source": [
        "def plot_image(i, prediction_array, true_label, img):\n",
        "  true_label, img = true_label[i], img[i]\n",
        "  plt.grid(False)\n",
        "  plt.xticks([])\n",
        "  plt.yticks([])\n",
        "\n",
        "  plt.imshow(img, cmap=plt.cm.binary)\n",
        "\n",
        "  predicted_label = np.argmax(prediction_array)\n",
        "  if predicted_label == true_label:\n",
        "    color = 'blue'\n",
        "  else:\n",
        "    color = 'red'\n",
        "  \n",
        "  plt.xlabel(\"{} {:2.0f}% ({})\".format(class_names[predicted_label],\n",
        "                                        100*np.max(prediction_array),\n",
        "                                        class_names[true_label],\n",
        "                                        color=color))\n",
        "\n",
        "def plot_value_array(i, prediction_array, true_label):\n",
        "  true_label = true_label[i]\n",
        "  plt.grid(False)\n",
        "  plt.xticks(range(10))\n",
        "  plt.yticks([])\n",
        "  thisplot = plt.bar(range(10), prediction_array, color = '#777777')\n",
        "  plt.ylim([0,1])\n",
        "  predicted_label = np.argmax(prediction_array)\n",
        "\n",
        "  thisplot[predicted_label].set_color('red')\n",
        "  thisplot[true_label].set_color('blue')"
      ],
      "execution_count": 0,
      "outputs": []
    },
    {
      "cell_type": "code",
      "metadata": {
        "id": "4fZNCLVI3Cev",
        "colab_type": "code",
        "colab": {
          "base_uri": "https://localhost:8080/",
          "height": 592
        },
        "outputId": "bbaaf867-9af2-40a2-b671-eb5e12f6ac28"
      },
      "source": [
        "row = 5\n",
        "col = 3\n",
        "plt.figure(figsize=(2*2*col,2*row))\n",
        "for i in range(row*col):\n",
        "  plt.subplot(row, 2*col, 2*i+1)\n",
        "  plot_image(i, prediction[i], test_labels, test_images)\n",
        "  plt.subplot(row, 2*col, 2*i+2)\n",
        "  plot_value_array(i, prediction[i], test_labels)\n",
        "plt.show()"
      ],
      "execution_count": 39,
      "outputs": [
        {
          "output_type": "display_data",
          "data": {
            "image/png": "[encoded data removed]",
            "text/plain": [
              "<Figure size 864x720 with 30 Axes>"
            ]
          },
          "metadata": {
            "tags": [],
            "needs_background": "light"
          }
        }
      ]
    },
    {
      "cell_type": "markdown",
      "metadata": {
        "id": "mwvt9aVkJbHw",
        "colab_type": "text"
      },
      "source": [
        "Oh, there is a wrong prediction here :))"
      ]
    }
  ]
}